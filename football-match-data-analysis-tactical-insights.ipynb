{
 "cells": [
  {
   "cell_type": "code",
   "execution_count": 1,
   "id": "5a4ccbb0",
   "metadata": {
    "_cell_guid": "b1076dfc-b9ad-4769-8c92-a6c4dae69d19",
    "_uuid": "8f2839f25d086af736a60e9eeb907d3b93b6e0e5",
    "execution": {
     "iopub.execute_input": "2024-09-07T10:11:09.608680Z",
     "iopub.status.busy": "2024-09-07T10:11:09.607262Z",
     "iopub.status.idle": "2024-09-07T10:11:12.822659Z",
     "shell.execute_reply": "2024-09-07T10:11:12.821514Z"
    },
    "papermill": {
     "duration": 3.232079,
     "end_time": "2024-09-07T10:11:12.825583",
     "exception": false,
     "start_time": "2024-09-07T10:11:09.593504",
     "status": "completed"
    },
    "tags": []
   },
   "outputs": [],
   "source": [
    "import numpy as np # linear algebra\n",
    "import pandas as pd # data processing, CSV file I/O (e.g. pd.read_csv)\n",
    "import matplotlib.pyplot as plt\n",
    "%matplotlib inline\n",
    "import seaborn as sns\n",
    "import networkx as nx\n",
    "\n"
   ]
  },
  {
   "cell_type": "code",
   "execution_count": 2,
   "id": "48a22b02",
   "metadata": {
    "execution": {
     "iopub.execute_input": "2024-09-07T10:11:12.848607Z",
     "iopub.status.busy": "2024-09-07T10:11:12.847943Z",
     "iopub.status.idle": "2024-09-07T10:11:13.241256Z",
     "shell.execute_reply": "2024-09-07T10:11:13.240136Z"
    },
    "papermill": {
     "duration": 0.40764,
     "end_time": "2024-09-07T10:11:13.244035",
     "exception": false,
     "start_time": "2024-09-07T10:11:12.836395",
     "status": "completed"
    },
    "tags": []
   },
   "outputs": [],
   "source": [
    "file_path = \"/kaggle/input/statsbomb-football-data/data/events/15998.json\"\n",
    "df = pd .read_json(file_path)"
   ]
  },
  {
   "cell_type": "code",
   "execution_count": 3,
   "id": "6b13c9bc",
   "metadata": {
    "execution": {
     "iopub.execute_input": "2024-09-07T10:11:13.270625Z",
     "iopub.status.busy": "2024-09-07T10:11:13.270150Z",
     "iopub.status.idle": "2024-09-07T10:11:13.312511Z",
     "shell.execute_reply": "2024-09-07T10:11:13.311316Z"
    },
    "papermill": {
     "duration": 0.060718,
     "end_time": "2024-09-07T10:11:13.315254",
     "exception": false,
     "start_time": "2024-09-07T10:11:13.254536",
     "status": "completed"
    },
    "tags": []
   },
   "outputs": [
    {
     "data": {
      "text/html": [
       "<div>\n",
       "<style scoped>\n",
       "    .dataframe tbody tr th:only-of-type {\n",
       "        vertical-align: middle;\n",
       "    }\n",
       "\n",
       "    .dataframe tbody tr th {\n",
       "        vertical-align: top;\n",
       "    }\n",
       "\n",
       "    .dataframe thead th {\n",
       "        text-align: right;\n",
       "    }\n",
       "</style>\n",
       "<table border=\"1\" class=\"dataframe\">\n",
       "  <thead>\n",
       "    <tr style=\"text-align: right;\">\n",
       "      <th></th>\n",
       "      <th>id</th>\n",
       "      <th>index</th>\n",
       "      <th>period</th>\n",
       "      <th>timestamp</th>\n",
       "      <th>minute</th>\n",
       "      <th>second</th>\n",
       "      <th>type</th>\n",
       "      <th>possession</th>\n",
       "      <th>possession_team</th>\n",
       "      <th>play_pattern</th>\n",
       "      <th>...</th>\n",
       "      <th>shot</th>\n",
       "      <th>goalkeeper</th>\n",
       "      <th>out</th>\n",
       "      <th>foul_won</th>\n",
       "      <th>interception</th>\n",
       "      <th>ball_recovery</th>\n",
       "      <th>block</th>\n",
       "      <th>foul_committed</th>\n",
       "      <th>substitution</th>\n",
       "      <th>miscontrol</th>\n",
       "    </tr>\n",
       "  </thead>\n",
       "  <tbody>\n",
       "    <tr>\n",
       "      <th>0</th>\n",
       "      <td>30fc6c07-f0ea-48f6-b8c4-3b385b529073</td>\n",
       "      <td>1</td>\n",
       "      <td>1</td>\n",
       "      <td>2024-09-07 00:00:00.000</td>\n",
       "      <td>0</td>\n",
       "      <td>0</td>\n",
       "      <td>{'id': 35, 'name': 'Starting XI'}</td>\n",
       "      <td>1</td>\n",
       "      <td>{'id': 205, 'name': 'Leganés'}</td>\n",
       "      <td>{'id': 1, 'name': 'Regular Play'}</td>\n",
       "      <td>...</td>\n",
       "      <td>NaN</td>\n",
       "      <td>NaN</td>\n",
       "      <td>NaN</td>\n",
       "      <td>NaN</td>\n",
       "      <td>NaN</td>\n",
       "      <td>NaN</td>\n",
       "      <td>NaN</td>\n",
       "      <td>NaN</td>\n",
       "      <td>NaN</td>\n",
       "      <td>NaN</td>\n",
       "    </tr>\n",
       "    <tr>\n",
       "      <th>1</th>\n",
       "      <td>12be4231-3122-485c-81f6-f119c0973c7a</td>\n",
       "      <td>2</td>\n",
       "      <td>1</td>\n",
       "      <td>2024-09-07 00:00:00.000</td>\n",
       "      <td>0</td>\n",
       "      <td>0</td>\n",
       "      <td>{'id': 35, 'name': 'Starting XI'}</td>\n",
       "      <td>1</td>\n",
       "      <td>{'id': 205, 'name': 'Leganés'}</td>\n",
       "      <td>{'id': 1, 'name': 'Regular Play'}</td>\n",
       "      <td>...</td>\n",
       "      <td>NaN</td>\n",
       "      <td>NaN</td>\n",
       "      <td>NaN</td>\n",
       "      <td>NaN</td>\n",
       "      <td>NaN</td>\n",
       "      <td>NaN</td>\n",
       "      <td>NaN</td>\n",
       "      <td>NaN</td>\n",
       "      <td>NaN</td>\n",
       "      <td>NaN</td>\n",
       "    </tr>\n",
       "    <tr>\n",
       "      <th>2</th>\n",
       "      <td>a5e725bf-81ea-416c-9850-aa174c767e0c</td>\n",
       "      <td>3</td>\n",
       "      <td>1</td>\n",
       "      <td>2024-09-07 00:00:00.000</td>\n",
       "      <td>0</td>\n",
       "      <td>0</td>\n",
       "      <td>{'id': 18, 'name': 'Half Start'}</td>\n",
       "      <td>1</td>\n",
       "      <td>{'id': 205, 'name': 'Leganés'}</td>\n",
       "      <td>{'id': 1, 'name': 'Regular Play'}</td>\n",
       "      <td>...</td>\n",
       "      <td>NaN</td>\n",
       "      <td>NaN</td>\n",
       "      <td>NaN</td>\n",
       "      <td>NaN</td>\n",
       "      <td>NaN</td>\n",
       "      <td>NaN</td>\n",
       "      <td>NaN</td>\n",
       "      <td>NaN</td>\n",
       "      <td>NaN</td>\n",
       "      <td>NaN</td>\n",
       "    </tr>\n",
       "    <tr>\n",
       "      <th>3</th>\n",
       "      <td>ec3f3698-8aa3-4082-b239-b6e8278525b5</td>\n",
       "      <td>4</td>\n",
       "      <td>1</td>\n",
       "      <td>2024-09-07 00:00:00.000</td>\n",
       "      <td>0</td>\n",
       "      <td>0</td>\n",
       "      <td>{'id': 18, 'name': 'Half Start'}</td>\n",
       "      <td>1</td>\n",
       "      <td>{'id': 205, 'name': 'Leganés'}</td>\n",
       "      <td>{'id': 1, 'name': 'Regular Play'}</td>\n",
       "      <td>...</td>\n",
       "      <td>NaN</td>\n",
       "      <td>NaN</td>\n",
       "      <td>NaN</td>\n",
       "      <td>NaN</td>\n",
       "      <td>NaN</td>\n",
       "      <td>NaN</td>\n",
       "      <td>NaN</td>\n",
       "      <td>NaN</td>\n",
       "      <td>NaN</td>\n",
       "      <td>NaN</td>\n",
       "    </tr>\n",
       "    <tr>\n",
       "      <th>4</th>\n",
       "      <td>286e4881-e6f3-4e0d-b870-186402bc22cb</td>\n",
       "      <td>5</td>\n",
       "      <td>1</td>\n",
       "      <td>2024-09-07 00:00:02.017</td>\n",
       "      <td>0</td>\n",
       "      <td>2</td>\n",
       "      <td>{'id': 30, 'name': 'Pass'}</td>\n",
       "      <td>2</td>\n",
       "      <td>{'id': 205, 'name': 'Leganés'}</td>\n",
       "      <td>{'id': 9, 'name': 'From Kick Off'}</td>\n",
       "      <td>...</td>\n",
       "      <td>NaN</td>\n",
       "      <td>NaN</td>\n",
       "      <td>NaN</td>\n",
       "      <td>NaN</td>\n",
       "      <td>NaN</td>\n",
       "      <td>NaN</td>\n",
       "      <td>NaN</td>\n",
       "      <td>NaN</td>\n",
       "      <td>NaN</td>\n",
       "      <td>NaN</td>\n",
       "    </tr>\n",
       "  </tbody>\n",
       "</table>\n",
       "<p>5 rows × 36 columns</p>\n",
       "</div>"
      ],
      "text/plain": [
       "                                     id  index  period  \\\n",
       "0  30fc6c07-f0ea-48f6-b8c4-3b385b529073      1       1   \n",
       "1  12be4231-3122-485c-81f6-f119c0973c7a      2       1   \n",
       "2  a5e725bf-81ea-416c-9850-aa174c767e0c      3       1   \n",
       "3  ec3f3698-8aa3-4082-b239-b6e8278525b5      4       1   \n",
       "4  286e4881-e6f3-4e0d-b870-186402bc22cb      5       1   \n",
       "\n",
       "                timestamp  minute  second                               type  \\\n",
       "0 2024-09-07 00:00:00.000       0       0  {'id': 35, 'name': 'Starting XI'}   \n",
       "1 2024-09-07 00:00:00.000       0       0  {'id': 35, 'name': 'Starting XI'}   \n",
       "2 2024-09-07 00:00:00.000       0       0   {'id': 18, 'name': 'Half Start'}   \n",
       "3 2024-09-07 00:00:00.000       0       0   {'id': 18, 'name': 'Half Start'}   \n",
       "4 2024-09-07 00:00:02.017       0       2         {'id': 30, 'name': 'Pass'}   \n",
       "\n",
       "   possession                 possession_team  \\\n",
       "0           1  {'id': 205, 'name': 'Leganés'}   \n",
       "1           1  {'id': 205, 'name': 'Leganés'}   \n",
       "2           1  {'id': 205, 'name': 'Leganés'}   \n",
       "3           1  {'id': 205, 'name': 'Leganés'}   \n",
       "4           2  {'id': 205, 'name': 'Leganés'}   \n",
       "\n",
       "                         play_pattern  ... shot  goalkeeper out foul_won  \\\n",
       "0   {'id': 1, 'name': 'Regular Play'}  ...  NaN         NaN NaN      NaN   \n",
       "1   {'id': 1, 'name': 'Regular Play'}  ...  NaN         NaN NaN      NaN   \n",
       "2   {'id': 1, 'name': 'Regular Play'}  ...  NaN         NaN NaN      NaN   \n",
       "3   {'id': 1, 'name': 'Regular Play'}  ...  NaN         NaN NaN      NaN   \n",
       "4  {'id': 9, 'name': 'From Kick Off'}  ...  NaN         NaN NaN      NaN   \n",
       "\n",
       "  interception ball_recovery block foul_committed substitution  miscontrol  \n",
       "0          NaN           NaN   NaN            NaN          NaN         NaN  \n",
       "1          NaN           NaN   NaN            NaN          NaN         NaN  \n",
       "2          NaN           NaN   NaN            NaN          NaN         NaN  \n",
       "3          NaN           NaN   NaN            NaN          NaN         NaN  \n",
       "4          NaN           NaN   NaN            NaN          NaN         NaN  \n",
       "\n",
       "[5 rows x 36 columns]"
      ]
     },
     "execution_count": 3,
     "metadata": {},
     "output_type": "execute_result"
    }
   ],
   "source": [
    "df.head()"
   ]
  },
  {
   "cell_type": "code",
   "execution_count": 4,
   "id": "ffda333b",
   "metadata": {
    "execution": {
     "iopub.execute_input": "2024-09-07T10:11:13.339013Z",
     "iopub.status.busy": "2024-09-07T10:11:13.338574Z",
     "iopub.status.idle": "2024-09-07T10:11:13.346136Z",
     "shell.execute_reply": "2024-09-07T10:11:13.344971Z"
    },
    "papermill": {
     "duration": 0.022732,
     "end_time": "2024-09-07T10:11:13.349146",
     "exception": false,
     "start_time": "2024-09-07T10:11:13.326414",
     "status": "completed"
    },
    "tags": []
   },
   "outputs": [
    {
     "data": {
      "text/plain": [
       "Index(['id', 'index', 'period', 'timestamp', 'minute', 'second', 'type',\n",
       "       'possession', 'possession_team', 'play_pattern', 'team', 'duration',\n",
       "       'tactics', 'related_events', 'player', 'position', 'location', 'pass',\n",
       "       'carry', 'under_pressure', 'ball_receipt', 'counterpress', 'dribble',\n",
       "       'off_camera', 'duel', 'clearance', 'shot', 'goalkeeper', 'out',\n",
       "       'foul_won', 'interception', 'ball_recovery', 'block', 'foul_committed',\n",
       "       'substitution', 'miscontrol'],\n",
       "      dtype='object')"
      ]
     },
     "execution_count": 4,
     "metadata": {},
     "output_type": "execute_result"
    }
   ],
   "source": [
    "df.columns"
   ]
  },
  {
   "cell_type": "code",
   "execution_count": 5,
   "id": "dae896f1",
   "metadata": {
    "execution": {
     "iopub.execute_input": "2024-09-07T10:11:13.373006Z",
     "iopub.status.busy": "2024-09-07T10:11:13.372587Z",
     "iopub.status.idle": "2024-09-07T10:11:13.380343Z",
     "shell.execute_reply": "2024-09-07T10:11:13.379234Z"
    },
    "papermill": {
     "duration": 0.023191,
     "end_time": "2024-09-07T10:11:13.383454",
     "exception": false,
     "start_time": "2024-09-07T10:11:13.360263",
     "status": "completed"
    },
    "tags": []
   },
   "outputs": [
    {
     "name": "stdout",
     "output_type": "stream",
     "text": [
      "0      {'id': 205, 'name': 'Leganés'}\n",
      "1    {'id': 217, 'name': 'Barcelona'}\n",
      "2      {'id': 205, 'name': 'Leganés'}\n",
      "3    {'id': 217, 'name': 'Barcelona'}\n",
      "4      {'id': 205, 'name': 'Leganés'}\n",
      "Name: team, dtype: object\n"
     ]
    }
   ],
   "source": [
    "print(df['team'].head())\n"
   ]
  },
  {
   "cell_type": "code",
   "execution_count": 6,
   "id": "f28f3740",
   "metadata": {
    "execution": {
     "iopub.execute_input": "2024-09-07T10:11:13.407734Z",
     "iopub.status.busy": "2024-09-07T10:11:13.407276Z",
     "iopub.status.idle": "2024-09-07T10:11:13.419827Z",
     "shell.execute_reply": "2024-09-07T10:11:13.418749Z"
    },
    "papermill": {
     "duration": 0.027772,
     "end_time": "2024-09-07T10:11:13.422438",
     "exception": false,
     "start_time": "2024-09-07T10:11:13.394666",
     "status": "completed"
    },
    "tags": []
   },
   "outputs": [
    {
     "name": "stdout",
     "output_type": "stream",
     "text": [
      "Empty DataFrame\n",
      "Columns: [id, index, period, timestamp, minute, second, type, possession, possession_team, play_pattern, team, duration, tactics, related_events, player, position, location, pass, carry, under_pressure, ball_receipt, counterpress, dribble, off_camera, duel, clearance, shot, goalkeeper, out, foul_won, interception, ball_recovery, block, foul_committed, substitution, miscontrol]\n",
      "Index: []\n",
      "\n",
      "[0 rows x 36 columns]\n"
     ]
    }
   ],
   "source": [
    "barcelona_data = df[df['team'] == 'Barcelona']\n",
    "\n",
    "# Display the first few rows of Barcelona's data\n",
    "print(barcelona_data.head())"
   ]
  },
  {
   "cell_type": "code",
   "execution_count": 7,
   "id": "cdbe9f47",
   "metadata": {
    "execution": {
     "iopub.execute_input": "2024-09-07T10:11:13.446429Z",
     "iopub.status.busy": "2024-09-07T10:11:13.446001Z",
     "iopub.status.idle": "2024-09-07T10:11:13.455273Z",
     "shell.execute_reply": "2024-09-07T10:11:13.454139Z"
    },
    "papermill": {
     "duration": 0.024226,
     "end_time": "2024-09-07T10:11:13.457842",
     "exception": false,
     "start_time": "2024-09-07T10:11:13.433616",
     "status": "completed"
    },
    "tags": []
   },
   "outputs": [
    {
     "name": "stdout",
     "output_type": "stream",
     "text": [
      "3947\n",
      "0      {'id': 205, 'name': 'Leganés'}\n",
      "1    {'id': 217, 'name': 'Barcelona'}\n",
      "2      {'id': 205, 'name': 'Leganés'}\n",
      "3    {'id': 217, 'name': 'Barcelona'}\n",
      "4      {'id': 205, 'name': 'Leganés'}\n",
      "Name: team, dtype: object\n"
     ]
    }
   ],
   "source": [
    "# Check the number of non-null values in the 'team' column\n",
    "print(df['team'].notnull().sum())\n",
    "\n",
    "# Display some of the 'team' column data to ensure it's there\n",
    "print(df['team'].head())\n"
   ]
  },
  {
   "cell_type": "code",
   "execution_count": 8,
   "id": "babf6a59",
   "metadata": {
    "execution": {
     "iopub.execute_input": "2024-09-07T10:11:13.482825Z",
     "iopub.status.busy": "2024-09-07T10:11:13.481859Z",
     "iopub.status.idle": "2024-09-07T10:11:13.499271Z",
     "shell.execute_reply": "2024-09-07T10:11:13.498078Z"
    },
    "papermill": {
     "duration": 0.033411,
     "end_time": "2024-09-07T10:11:13.502715",
     "exception": false,
     "start_time": "2024-09-07T10:11:13.469304",
     "status": "completed"
    },
    "tags": []
   },
   "outputs": [
    {
     "name": "stdout",
     "output_type": "stream",
     "text": [
      "                                     id  index  period  \\\n",
      "0  30fc6c07-f0ea-48f6-b8c4-3b385b529073      1       1   \n",
      "1  12be4231-3122-485c-81f6-f119c0973c7a      2       1   \n",
      "2  a5e725bf-81ea-416c-9850-aa174c767e0c      3       1   \n",
      "3  ec3f3698-8aa3-4082-b239-b6e8278525b5      4       1   \n",
      "4  286e4881-e6f3-4e0d-b870-186402bc22cb      5       1   \n",
      "\n",
      "                timestamp  minute  second                               type  \\\n",
      "0 2024-09-07 00:00:00.000       0       0  {'id': 35, 'name': 'Starting XI'}   \n",
      "1 2024-09-07 00:00:00.000       0       0  {'id': 35, 'name': 'Starting XI'}   \n",
      "2 2024-09-07 00:00:00.000       0       0   {'id': 18, 'name': 'Half Start'}   \n",
      "3 2024-09-07 00:00:00.000       0       0   {'id': 18, 'name': 'Half Start'}   \n",
      "4 2024-09-07 00:00:02.017       0       2         {'id': 30, 'name': 'Pass'}   \n",
      "\n",
      "   possession                 possession_team  \\\n",
      "0           1  {'id': 205, 'name': 'Leganés'}   \n",
      "1           1  {'id': 205, 'name': 'Leganés'}   \n",
      "2           1  {'id': 205, 'name': 'Leganés'}   \n",
      "3           1  {'id': 205, 'name': 'Leganés'}   \n",
      "4           2  {'id': 205, 'name': 'Leganés'}   \n",
      "\n",
      "                         play_pattern  ... shot  goalkeeper out foul_won  \\\n",
      "0   {'id': 1, 'name': 'Regular Play'}  ...  NaN         NaN NaN      NaN   \n",
      "1   {'id': 1, 'name': 'Regular Play'}  ...  NaN         NaN NaN      NaN   \n",
      "2   {'id': 1, 'name': 'Regular Play'}  ...  NaN         NaN NaN      NaN   \n",
      "3   {'id': 1, 'name': 'Regular Play'}  ...  NaN         NaN NaN      NaN   \n",
      "4  {'id': 9, 'name': 'From Kick Off'}  ...  NaN         NaN NaN      NaN   \n",
      "\n",
      "  interception ball_recovery block foul_committed substitution  miscontrol  \n",
      "0          NaN           NaN   NaN            NaN          NaN         NaN  \n",
      "1          NaN           NaN   NaN            NaN          NaN         NaN  \n",
      "2          NaN           NaN   NaN            NaN          NaN         NaN  \n",
      "3          NaN           NaN   NaN            NaN          NaN         NaN  \n",
      "4          NaN           NaN   NaN            NaN          NaN         NaN  \n",
      "\n",
      "[5 rows x 36 columns]\n"
     ]
    }
   ],
   "source": [
    "# Display the first few rows of the DataFrame to inspect the structure\n",
    "print(df.head())\n"
   ]
  },
  {
   "cell_type": "code",
   "execution_count": 9,
   "id": "d356525f",
   "metadata": {
    "execution": {
     "iopub.execute_input": "2024-09-07T10:11:13.527996Z",
     "iopub.status.busy": "2024-09-07T10:11:13.527005Z",
     "iopub.status.idle": "2024-09-07T10:11:13.558002Z",
     "shell.execute_reply": "2024-09-07T10:11:13.556707Z"
    },
    "papermill": {
     "duration": 0.046403,
     "end_time": "2024-09-07T10:11:13.560604",
     "exception": false,
     "start_time": "2024-09-07T10:11:13.514201",
     "status": "completed"
    },
    "tags": []
   },
   "outputs": [
    {
     "name": "stdout",
     "output_type": "stream",
     "text": [
      "['Leganés' 'Barcelona']\n"
     ]
    }
   ],
   "source": [
    "# Check the unique team names in your dataset\n",
    "print(df['team'].apply(lambda x: x['name'] if pd.notnull(x) else None).unique())\n"
   ]
  },
  {
   "cell_type": "code",
   "execution_count": 10,
   "id": "89abd034",
   "metadata": {
    "execution": {
     "iopub.execute_input": "2024-09-07T10:11:13.585860Z",
     "iopub.status.busy": "2024-09-07T10:11:13.585408Z",
     "iopub.status.idle": "2024-09-07T10:11:13.634702Z",
     "shell.execute_reply": "2024-09-07T10:11:13.633345Z"
    },
    "papermill": {
     "duration": 0.065227,
     "end_time": "2024-09-07T10:11:13.637421",
     "exception": false,
     "start_time": "2024-09-07T10:11:13.572194",
     "status": "completed"
    },
    "tags": []
   },
   "outputs": [
    {
     "name": "stdout",
     "output_type": "stream",
     "text": [
      "                                      id  index  period  \\\n",
      "1   12be4231-3122-485c-81f6-f119c0973c7a      2       1   \n",
      "3   ec3f3698-8aa3-4082-b239-b6e8278525b5      4       1   \n",
      "13  6e3209d9-58ff-4a8e-a51d-1c9efe0eb611     14       1   \n",
      "16  e46e2464-9076-43a4-9d53-46e9bb33a4fc     17       1   \n",
      "18  2d6ed89f-819c-4e02-a6cc-27de67d45223     19       1   \n",
      "\n",
      "                 timestamp  minute  second  \\\n",
      "1  2024-09-07 00:00:00.000       0       0   \n",
      "3  2024-09-07 00:00:00.000       0       0   \n",
      "13 2024-09-07 00:00:10.434       0      10   \n",
      "16 2024-09-07 00:00:15.545       0      15   \n",
      "18 2024-09-07 00:00:18.484       0      18   \n",
      "\n",
      "                                   type  possession  \\\n",
      "1     {'id': 35, 'name': 'Starting XI'}           1   \n",
      "3      {'id': 18, 'name': 'Half Start'}           1   \n",
      "13       {'id': 17, 'name': 'Pressure'}           2   \n",
      "16           {'id': 30, 'name': 'Pass'}           3   \n",
      "18  {'id': 42, 'name': 'Ball Receipt*'}           3   \n",
      "\n",
      "                     possession_team                        play_pattern  ...  \\\n",
      "1     {'id': 205, 'name': 'Leganés'}   {'id': 1, 'name': 'Regular Play'}  ...   \n",
      "3     {'id': 205, 'name': 'Leganés'}   {'id': 1, 'name': 'Regular Play'}  ...   \n",
      "13    {'id': 205, 'name': 'Leganés'}  {'id': 9, 'name': 'From Kick Off'}  ...   \n",
      "16  {'id': 217, 'name': 'Barcelona'}   {'id': 1, 'name': 'Regular Play'}  ...   \n",
      "18  {'id': 217, 'name': 'Barcelona'}   {'id': 1, 'name': 'Regular Play'}  ...   \n",
      "\n",
      "   goalkeeper  out foul_won interception ball_recovery block foul_committed  \\\n",
      "1         NaN  NaN      NaN          NaN           NaN   NaN            NaN   \n",
      "3         NaN  NaN      NaN          NaN           NaN   NaN            NaN   \n",
      "13        NaN  NaN      NaN          NaN           NaN   NaN            NaN   \n",
      "16        NaN  NaN      NaN          NaN           NaN   NaN            NaN   \n",
      "18        NaN  NaN      NaN          NaN           NaN   NaN            NaN   \n",
      "\n",
      "   substitution miscontrol  team_name  \n",
      "1           NaN        NaN  Barcelona  \n",
      "3           NaN        NaN  Barcelona  \n",
      "13          NaN        NaN  Barcelona  \n",
      "16          NaN        NaN  Barcelona  \n",
      "18          NaN        NaN  Barcelona  \n",
      "\n",
      "[5 rows x 37 columns]\n"
     ]
    }
   ],
   "source": [
    "# Extract the team name from the 'team' column\n",
    "df['team_name'] = df['team'].apply(lambda x: x['name'] if pd.notnull(x) else None)\n",
    "\n",
    "# Filter the data for the specific team (e.g., 'Barcelona')\n",
    "barcelona_data = df[df['team_name'] == 'Barcelona']\n",
    "\n",
    "# Display the first few rows of the filtered DataFrame\n",
    "print(barcelona_data.head())\n"
   ]
  },
  {
   "cell_type": "code",
   "execution_count": 11,
   "id": "3136a17a",
   "metadata": {
    "execution": {
     "iopub.execute_input": "2024-09-07T10:11:13.662890Z",
     "iopub.status.busy": "2024-09-07T10:11:13.662449Z",
     "iopub.status.idle": "2024-09-07T10:11:13.674363Z",
     "shell.execute_reply": "2024-09-07T10:11:13.673105Z"
    },
    "papermill": {
     "duration": 0.027303,
     "end_time": "2024-09-07T10:11:13.676681",
     "exception": false,
     "start_time": "2024-09-07T10:11:13.649378",
     "status": "completed"
    },
    "tags": []
   },
   "outputs": [
    {
     "name": "stdout",
     "output_type": "stream",
     "text": [
      "(2757, 37)\n"
     ]
    }
   ],
   "source": [
    "# Count the number of rows matching the filter criteria\n",
    "print(df[df['team_name'] == 'Barcelona'].shape)\n"
   ]
  },
  {
   "cell_type": "code",
   "execution_count": 12,
   "id": "80d8418a",
   "metadata": {
    "execution": {
     "iopub.execute_input": "2024-09-07T10:11:13.703244Z",
     "iopub.status.busy": "2024-09-07T10:11:13.702084Z",
     "iopub.status.idle": "2024-09-07T10:11:13.713820Z",
     "shell.execute_reply": "2024-09-07T10:11:13.712730Z"
    },
    "papermill": {
     "duration": 0.028273,
     "end_time": "2024-09-07T10:11:13.716834",
     "exception": false,
     "start_time": "2024-09-07T10:11:13.688561",
     "status": "completed"
    },
    "tags": []
   },
   "outputs": [
    {
     "name": "stdout",
     "output_type": "stream",
     "text": [
      "id                              30fc6c07-f0ea-48f6-b8c4-3b385b529073\n",
      "index                                                              1\n",
      "period                                                             1\n",
      "timestamp                                        2024-09-07 00:00:00\n",
      "minute                                                             0\n",
      "second                                                             0\n",
      "type                               {'id': 35, 'name': 'Starting XI'}\n",
      "possession                                                         1\n",
      "possession_team                       {'id': 205, 'name': 'Leganés'}\n",
      "play_pattern                       {'id': 1, 'name': 'Regular Play'}\n",
      "team                                  {'id': 205, 'name': 'Leganés'}\n",
      "duration                                                         0.0\n",
      "tactics            {'formation': 32221, 'lineup': [{'player': {'i...\n",
      "related_events                                                   NaN\n",
      "player                                                           NaN\n",
      "position                                                         NaN\n",
      "location                                                         NaN\n",
      "pass                                                             NaN\n",
      "carry                                                            NaN\n",
      "under_pressure                                                   NaN\n",
      "ball_receipt                                                     NaN\n",
      "counterpress                                                     NaN\n",
      "dribble                                                          NaN\n",
      "off_camera                                                       NaN\n",
      "duel                                                             NaN\n",
      "clearance                                                        NaN\n",
      "shot                                                             NaN\n",
      "goalkeeper                                                       NaN\n",
      "out                                                              NaN\n",
      "foul_won                                                         NaN\n",
      "interception                                                     NaN\n",
      "ball_recovery                                                    NaN\n",
      "block                                                            NaN\n",
      "foul_committed                                                   NaN\n",
      "substitution                                                     NaN\n",
      "miscontrol                                                       NaN\n",
      "team_name                                                    Leganés\n",
      "Name: 0, dtype: object\n"
     ]
    }
   ],
   "source": [
    "# Inspect the structure of a specific row to understand the nested data\n",
    "print(df.iloc[0])\n"
   ]
  },
  {
   "cell_type": "code",
   "execution_count": 13,
   "id": "90d3b1d4",
   "metadata": {
    "execution": {
     "iopub.execute_input": "2024-09-07T10:11:13.743103Z",
     "iopub.status.busy": "2024-09-07T10:11:13.742133Z",
     "iopub.status.idle": "2024-09-07T10:11:13.773493Z",
     "shell.execute_reply": "2024-09-07T10:11:13.772230Z"
    },
    "papermill": {
     "duration": 0.047471,
     "end_time": "2024-09-07T10:11:13.776272",
     "exception": false,
     "start_time": "2024-09-07T10:11:13.728801",
     "status": "completed"
    },
    "tags": []
   },
   "outputs": [
    {
     "data": {
      "text/html": [
       "<div>\n",
       "<style scoped>\n",
       "    .dataframe tbody tr th:only-of-type {\n",
       "        vertical-align: middle;\n",
       "    }\n",
       "\n",
       "    .dataframe tbody tr th {\n",
       "        vertical-align: top;\n",
       "    }\n",
       "\n",
       "    .dataframe thead th {\n",
       "        text-align: right;\n",
       "    }\n",
       "</style>\n",
       "<table border=\"1\" class=\"dataframe\">\n",
       "  <thead>\n",
       "    <tr style=\"text-align: right;\">\n",
       "      <th></th>\n",
       "      <th>player</th>\n",
       "      <th>position</th>\n",
       "      <th>location</th>\n",
       "    </tr>\n",
       "  </thead>\n",
       "  <tbody>\n",
       "    <tr>\n",
       "      <th>16</th>\n",
       "      <td>{'id': 6332, 'name': 'Thomas Vermaelen'}</td>\n",
       "      <td>{'id': 6, 'name': 'Left Back'}</td>\n",
       "      <td>[36.0, 4.0]</td>\n",
       "    </tr>\n",
       "    <tr>\n",
       "      <th>20</th>\n",
       "      <td>{'id': 20055, 'name': 'Marc-André ter Stegen'}</td>\n",
       "      <td>{'id': 1, 'name': 'Goalkeeper'}</td>\n",
       "      <td>[9.0, 33.0]</td>\n",
       "    </tr>\n",
       "    <tr>\n",
       "      <th>24</th>\n",
       "      <td>{'id': 6379, 'name': 'Sergi Roberto Carnicer'}</td>\n",
       "      <td>{'id': 2, 'name': 'Right Back'}</td>\n",
       "      <td>[28.0, 73.0]</td>\n",
       "    </tr>\n",
       "    <tr>\n",
       "      <th>28</th>\n",
       "      <td>{'id': 5213, 'name': 'Gerard Piqué Bernabéu'}</td>\n",
       "      <td>{'id': 3, 'name': 'Right Center Back'}</td>\n",
       "      <td>[4.0, 67.0]</td>\n",
       "    </tr>\n",
       "    <tr>\n",
       "      <th>32</th>\n",
       "      <td>{'id': 20055, 'name': 'Marc-André ter Stegen'}</td>\n",
       "      <td>{'id': 1, 'name': 'Goalkeeper'}</td>\n",
       "      <td>[5.0, 44.0]</td>\n",
       "    </tr>\n",
       "  </tbody>\n",
       "</table>\n",
       "</div>"
      ],
      "text/plain": [
       "                                            player  \\\n",
       "16        {'id': 6332, 'name': 'Thomas Vermaelen'}   \n",
       "20  {'id': 20055, 'name': 'Marc-André ter Stegen'}   \n",
       "24  {'id': 6379, 'name': 'Sergi Roberto Carnicer'}   \n",
       "28   {'id': 5213, 'name': 'Gerard Piqué Bernabéu'}   \n",
       "32  {'id': 20055, 'name': 'Marc-André ter Stegen'}   \n",
       "\n",
       "                                  position      location  \n",
       "16          {'id': 6, 'name': 'Left Back'}   [36.0, 4.0]  \n",
       "20         {'id': 1, 'name': 'Goalkeeper'}   [9.0, 33.0]  \n",
       "24         {'id': 2, 'name': 'Right Back'}  [28.0, 73.0]  \n",
       "28  {'id': 3, 'name': 'Right Center Back'}   [4.0, 67.0]  \n",
       "32         {'id': 1, 'name': 'Goalkeeper'}   [5.0, 44.0]  "
      ]
     },
     "execution_count": 13,
     "metadata": {},
     "output_type": "execute_result"
    }
   ],
   "source": [
    "# Extract relevant events where player positions are important (e.g., Pass, Shot, etc.)\n",
    "relevant_events = df[df['type'].apply(lambda x: x['name']).isin(['Pass', 'Shot'])]\n",
    "\n",
    "# Filter data for Barcelona's events\n",
    "barcelona_events = relevant_events[relevant_events['team_name'] == 'Barcelona']\n",
    "\n",
    "# Extract player positions and relevant data\n",
    "barcelona_events[['player', 'position', 'location']].head()\n"
   ]
  },
  {
   "cell_type": "code",
   "execution_count": 14,
   "id": "7f98f4cf",
   "metadata": {
    "execution": {
     "iopub.execute_input": "2024-09-07T10:11:13.803021Z",
     "iopub.status.busy": "2024-09-07T10:11:13.802594Z",
     "iopub.status.idle": "2024-09-07T10:11:13.820512Z",
     "shell.execute_reply": "2024-09-07T10:11:13.819337Z"
    },
    "papermill": {
     "duration": 0.035389,
     "end_time": "2024-09-07T10:11:13.824073",
     "exception": false,
     "start_time": "2024-09-07T10:11:13.788684",
     "status": "completed"
    },
    "tags": []
   },
   "outputs": [
    {
     "name": "stdout",
     "output_type": "stream",
     "text": [
      "                                            player  \\\n",
      "16        {'id': 6332, 'name': 'Thomas Vermaelen'}   \n",
      "20  {'id': 20055, 'name': 'Marc-André ter Stegen'}   \n",
      "24  {'id': 6379, 'name': 'Sergi Roberto Carnicer'}   \n",
      "28   {'id': 5213, 'name': 'Gerard Piqué Bernabéu'}   \n",
      "32  {'id': 20055, 'name': 'Marc-André ter Stegen'}   \n",
      "\n",
      "                                  position   x   y  \n",
      "16          {'id': 6, 'name': 'Left Back'} NaN NaN  \n",
      "20         {'id': 1, 'name': 'Goalkeeper'} NaN NaN  \n",
      "24         {'id': 2, 'name': 'Right Back'} NaN NaN  \n",
      "28  {'id': 3, 'name': 'Right Center Back'} NaN NaN  \n",
      "32         {'id': 1, 'name': 'Goalkeeper'} NaN NaN  \n"
     ]
    }
   ],
   "source": [
    "# Split the 'location' column into 'x' and 'y' coordinates\n",
    "# Extract x and y coordinates safely\n",
    "barcelona_events.loc[:, ['x', 'y']] = pd.DataFrame(barcelona_events['location'].tolist(), index=barcelona_events.index)\n",
    "\n",
    "\n",
    "# Display the first few rows of the updated DataFrame\n",
    "print(barcelona_events[['player', 'position', 'x', 'y']].head())\n"
   ]
  },
  {
   "cell_type": "code",
   "execution_count": 15,
   "id": "790d8154",
   "metadata": {
    "execution": {
     "iopub.execute_input": "2024-09-07T10:11:13.850887Z",
     "iopub.status.busy": "2024-09-07T10:11:13.850457Z",
     "iopub.status.idle": "2024-09-07T10:11:13.873254Z",
     "shell.execute_reply": "2024-09-07T10:11:13.871989Z"
    },
    "papermill": {
     "duration": 0.039268,
     "end_time": "2024-09-07T10:11:13.875835",
     "exception": false,
     "start_time": "2024-09-07T10:11:13.836567",
     "status": "completed"
    },
    "tags": []
   },
   "outputs": [
    {
     "name": "stdout",
     "output_type": "stream",
     "text": [
      "player        0\n",
      "location      0\n",
      "x           864\n",
      "y           864\n",
      "dtype: int64\n",
      "                                      id  index  period  \\\n",
      "16  e46e2464-9076-43a4-9d53-46e9bb33a4fc     17       1   \n",
      "20  8e6f04c8-405e-4201-9fa6-f91292b792a2     21       1   \n",
      "24  c044a020-8d1c-4969-a213-a693827748f3     25       1   \n",
      "28  84e6de32-48e4-46f9-a5b6-1ac44bf4223f     29       1   \n",
      "32  17469eae-16e3-4540-9828-1b513cb07d34     33       1   \n",
      "\n",
      "                 timestamp  minute  second                        type  \\\n",
      "16 2024-09-07 00:00:15.545       0      15  {'id': 30, 'name': 'Pass'}   \n",
      "20 2024-09-07 00:00:19.541       0      19  {'id': 30, 'name': 'Pass'}   \n",
      "24 2024-09-07 00:00:22.935       0      22  {'id': 30, 'name': 'Pass'}   \n",
      "28 2024-09-07 00:00:25.452       0      25  {'id': 30, 'name': 'Pass'}   \n",
      "32 2024-09-07 00:00:27.938       0      27  {'id': 30, 'name': 'Pass'}   \n",
      "\n",
      "    possession                   possession_team  \\\n",
      "16           3  {'id': 217, 'name': 'Barcelona'}   \n",
      "20           3  {'id': 217, 'name': 'Barcelona'}   \n",
      "24           3  {'id': 217, 'name': 'Barcelona'}   \n",
      "28           3  {'id': 217, 'name': 'Barcelona'}   \n",
      "32           3  {'id': 217, 'name': 'Barcelona'}   \n",
      "\n",
      "                         play_pattern  ... foul_won  interception  \\\n",
      "16  {'id': 1, 'name': 'Regular Play'}  ...      NaN           NaN   \n",
      "20  {'id': 1, 'name': 'Regular Play'}  ...      NaN           NaN   \n",
      "24  {'id': 1, 'name': 'Regular Play'}  ...      NaN           NaN   \n",
      "28  {'id': 1, 'name': 'Regular Play'}  ...      NaN           NaN   \n",
      "32  {'id': 1, 'name': 'Regular Play'}  ...      NaN           NaN   \n",
      "\n",
      "   ball_recovery block foul_committed substitution miscontrol  team_name   x  \\\n",
      "16           NaN   NaN            NaN          NaN        NaN  Barcelona NaN   \n",
      "20           NaN   NaN            NaN          NaN        NaN  Barcelona NaN   \n",
      "24           NaN   NaN            NaN          NaN        NaN  Barcelona NaN   \n",
      "28           NaN   NaN            NaN          NaN        NaN  Barcelona NaN   \n",
      "32           NaN   NaN            NaN          NaN        NaN  Barcelona NaN   \n",
      "\n",
      "     y  \n",
      "16 NaN  \n",
      "20 NaN  \n",
      "24 NaN  \n",
      "28 NaN  \n",
      "32 NaN  \n",
      "\n",
      "[5 rows x 39 columns]\n"
     ]
    }
   ],
   "source": [
    "# Check for missing values in critical columns\n",
    "print(barcelona_events[['player', 'location', 'x', 'y']].isnull().sum())\n",
    "\n",
    "# Display the first few rows to ensure proper extraction\n",
    "print(barcelona_events.head())\n",
    "\n"
   ]
  },
  {
   "cell_type": "code",
   "execution_count": 16,
   "id": "d69446f5",
   "metadata": {
    "execution": {
     "iopub.execute_input": "2024-09-07T10:11:13.903353Z",
     "iopub.status.busy": "2024-09-07T10:11:13.902918Z",
     "iopub.status.idle": "2024-09-07T10:11:13.909056Z",
     "shell.execute_reply": "2024-09-07T10:11:13.907979Z"
    },
    "papermill": {
     "duration": 0.023292,
     "end_time": "2024-09-07T10:11:13.912056",
     "exception": false,
     "start_time": "2024-09-07T10:11:13.888764",
     "status": "completed"
    },
    "tags": []
   },
   "outputs": [
    {
     "name": "stdout",
     "output_type": "stream",
     "text": [
      "Index(['id', 'index', 'period', 'timestamp', 'minute', 'second', 'type',\n",
      "       'possession', 'possession_team', 'play_pattern', 'team', 'duration',\n",
      "       'tactics', 'related_events', 'player', 'position', 'location', 'pass',\n",
      "       'carry', 'under_pressure', 'ball_receipt', 'counterpress', 'dribble',\n",
      "       'off_camera', 'duel', 'clearance', 'shot', 'goalkeeper', 'out',\n",
      "       'foul_won', 'interception', 'ball_recovery', 'block', 'foul_committed',\n",
      "       'substitution', 'miscontrol', 'team_name', 'x', 'y'],\n",
      "      dtype='object')\n"
     ]
    }
   ],
   "source": [
    "print(barcelona_events.columns)\n"
   ]
  },
  {
   "cell_type": "code",
   "execution_count": 17,
   "id": "2e5154b9",
   "metadata": {
    "execution": {
     "iopub.execute_input": "2024-09-07T10:11:13.939875Z",
     "iopub.status.busy": "2024-09-07T10:11:13.938864Z",
     "iopub.status.idle": "2024-09-07T10:11:13.949320Z",
     "shell.execute_reply": "2024-09-07T10:11:13.948241Z"
    },
    "papermill": {
     "duration": 0.027473,
     "end_time": "2024-09-07T10:11:13.952460",
     "exception": false,
     "start_time": "2024-09-07T10:11:13.924987",
     "status": "completed"
    },
    "tags": []
   },
   "outputs": [
    {
     "name": "stdout",
     "output_type": "stream",
     "text": [
      "player\n",
      "<class 'dict'>    864\n",
      "Name: count, dtype: int64\n"
     ]
    }
   ],
   "source": [
    "# Display the type of each entry in the 'player' column\n",
    "print(barcelona_events['player'].apply(type).value_counts())\n",
    "\n"
   ]
  },
  {
   "cell_type": "code",
   "execution_count": 18,
   "id": "2b3ec201",
   "metadata": {
    "execution": {
     "iopub.execute_input": "2024-09-07T10:11:13.980268Z",
     "iopub.status.busy": "2024-09-07T10:11:13.979173Z",
     "iopub.status.idle": "2024-09-07T10:11:14.004835Z",
     "shell.execute_reply": "2024-09-07T10:11:14.003750Z"
    },
    "papermill": {
     "duration": 0.042896,
     "end_time": "2024-09-07T10:11:14.008011",
     "exception": false,
     "start_time": "2024-09-07T10:11:13.965115",
     "status": "completed"
    },
    "tags": []
   },
   "outputs": [
    {
     "name": "stdout",
     "output_type": "stream",
     "text": [
      "                                        id  index  period  \\\n",
      "16    e46e2464-9076-43a4-9d53-46e9bb33a4fc     17       1   \n",
      "20    8e6f04c8-405e-4201-9fa6-f91292b792a2     21       1   \n",
      "24    c044a020-8d1c-4969-a213-a693827748f3     25       1   \n",
      "28    84e6de32-48e4-46f9-a5b6-1ac44bf4223f     29       1   \n",
      "32    17469eae-16e3-4540-9828-1b513cb07d34     33       1   \n",
      "...                                    ...    ...     ...   \n",
      "3933  8b7ee642-5dbf-490b-99b4-27b51443c76f   3934       2   \n",
      "3936  30c1bed1-0126-4b16-a7c0-9c00066fe91e   3937       2   \n",
      "3938  09aa7070-ae3b-41f3-9e32-c90cae01dd36   3939       2   \n",
      "3941  32ef84dc-b14f-4151-b033-578fb2727e8b   3942       2   \n",
      "3943  fbc52f77-7e61-42d5-b061-8f87caf9b271   3944       2   \n",
      "\n",
      "                   timestamp  minute  second                        type  \\\n",
      "16   2024-09-07 00:00:15.545       0      15  {'id': 30, 'name': 'Pass'}   \n",
      "20   2024-09-07 00:00:19.541       0      19  {'id': 30, 'name': 'Pass'}   \n",
      "24   2024-09-07 00:00:22.935       0      22  {'id': 30, 'name': 'Pass'}   \n",
      "28   2024-09-07 00:00:25.452       0      25  {'id': 30, 'name': 'Pass'}   \n",
      "32   2024-09-07 00:00:27.938       0      27  {'id': 30, 'name': 'Pass'}   \n",
      "...                      ...     ...     ...                         ...   \n",
      "3933 2024-09-07 00:47:57.203      92      57  {'id': 30, 'name': 'Pass'}   \n",
      "3936 2024-09-07 00:47:59.547      92      59  {'id': 30, 'name': 'Pass'}   \n",
      "3938 2024-09-07 00:48:00.484      93       0  {'id': 30, 'name': 'Pass'}   \n",
      "3941 2024-09-07 00:48:02.934      93       2  {'id': 30, 'name': 'Pass'}   \n",
      "3943 2024-09-07 00:48:24.757      93      24  {'id': 30, 'name': 'Pass'}   \n",
      "\n",
      "      possession                   possession_team  \\\n",
      "16             3  {'id': 217, 'name': 'Barcelona'}   \n",
      "20             3  {'id': 217, 'name': 'Barcelona'}   \n",
      "24             3  {'id': 217, 'name': 'Barcelona'}   \n",
      "28             3  {'id': 217, 'name': 'Barcelona'}   \n",
      "32             3  {'id': 217, 'name': 'Barcelona'}   \n",
      "...          ...                               ...   \n",
      "3933         173  {'id': 217, 'name': 'Barcelona'}   \n",
      "3936         173  {'id': 217, 'name': 'Barcelona'}   \n",
      "3938         173  {'id': 217, 'name': 'Barcelona'}   \n",
      "3941         173  {'id': 217, 'name': 'Barcelona'}   \n",
      "3943         174  {'id': 217, 'name': 'Barcelona'}   \n",
      "\n",
      "                            play_pattern  ... foul_won  interception  \\\n",
      "16     {'id': 1, 'name': 'Regular Play'}  ...      NaN           NaN   \n",
      "20     {'id': 1, 'name': 'Regular Play'}  ...      NaN           NaN   \n",
      "24     {'id': 1, 'name': 'Regular Play'}  ...      NaN           NaN   \n",
      "28     {'id': 1, 'name': 'Regular Play'}  ...      NaN           NaN   \n",
      "32     {'id': 1, 'name': 'Regular Play'}  ...      NaN           NaN   \n",
      "...                                  ...  ...      ...           ...   \n",
      "3933  {'id': 4, 'name': 'From Throw In'}  ...      NaN           NaN   \n",
      "3936  {'id': 4, 'name': 'From Throw In'}  ...      NaN           NaN   \n",
      "3938  {'id': 4, 'name': 'From Throw In'}  ...      NaN           NaN   \n",
      "3941  {'id': 4, 'name': 'From Throw In'}  ...      NaN           NaN   \n",
      "3943    {'id': 2, 'name': 'From Corner'}  ...      NaN           NaN   \n",
      "\n",
      "     ball_recovery block foul_committed substitution miscontrol  team_name  \\\n",
      "16             NaN   NaN            NaN          NaN        NaN  Barcelona   \n",
      "20             NaN   NaN            NaN          NaN        NaN  Barcelona   \n",
      "24             NaN   NaN            NaN          NaN        NaN  Barcelona   \n",
      "28             NaN   NaN            NaN          NaN        NaN  Barcelona   \n",
      "32             NaN   NaN            NaN          NaN        NaN  Barcelona   \n",
      "...            ...   ...            ...          ...        ...        ...   \n",
      "3933           NaN   NaN            NaN          NaN        NaN  Barcelona   \n",
      "3936           NaN   NaN            NaN          NaN        NaN  Barcelona   \n",
      "3938           NaN   NaN            NaN          NaN        NaN  Barcelona   \n",
      "3941           NaN   NaN            NaN          NaN        NaN  Barcelona   \n",
      "3943           NaN   NaN            NaN          NaN        NaN  Barcelona   \n",
      "\n",
      "       x   y  \n",
      "16   NaN NaN  \n",
      "20   NaN NaN  \n",
      "24   NaN NaN  \n",
      "28   NaN NaN  \n",
      "32   NaN NaN  \n",
      "...   ..  ..  \n",
      "3933 NaN NaN  \n",
      "3936 NaN NaN  \n",
      "3938 NaN NaN  \n",
      "3941 NaN NaN  \n",
      "3943 NaN NaN  \n",
      "\n",
      "[864 rows x 39 columns]\n"
     ]
    }
   ],
   "source": [
    "# Find entries that are dictionaries or other non-string types\n",
    "non_string_entries = barcelona_events[~barcelona_events['player'].apply(lambda x: isinstance(x, str))]\n",
    "print(non_string_entries)\n"
   ]
  },
  {
   "cell_type": "code",
   "execution_count": 19,
   "id": "ee44afd1",
   "metadata": {
    "execution": {
     "iopub.execute_input": "2024-09-07T10:11:14.035895Z",
     "iopub.status.busy": "2024-09-07T10:11:14.035444Z",
     "iopub.status.idle": "2024-09-07T10:11:14.045205Z",
     "shell.execute_reply": "2024-09-07T10:11:14.044033Z"
    },
    "papermill": {
     "duration": 0.026749,
     "end_time": "2024-09-07T10:11:14.047688",
     "exception": false,
     "start_time": "2024-09-07T10:11:14.020939",
     "status": "completed"
    },
    "tags": []
   },
   "outputs": [
    {
     "name": "stderr",
     "output_type": "stream",
     "text": [
      "/tmp/ipykernel_17/325349439.py:2: SettingWithCopyWarning: \n",
      "A value is trying to be set on a copy of a slice from a DataFrame.\n",
      "Try using .loc[row_indexer,col_indexer] = value instead\n",
      "\n",
      "See the caveats in the documentation: https://pandas.pydata.org/pandas-docs/stable/user_guide/indexing.html#returning-a-view-versus-a-copy\n",
      "  barcelona_events['player'] = barcelona_events['player'].apply(lambda x: str(x) if not isinstance(x, str) else x)\n"
     ]
    }
   ],
   "source": [
    "# Convert all non-string values in 'player' column to strings\n",
    "barcelona_events['player'] = barcelona_events['player'].apply(lambda x: str(x) if not isinstance(x, str) else x)\n"
   ]
  },
  {
   "cell_type": "code",
   "execution_count": 20,
   "id": "811a4af5",
   "metadata": {
    "execution": {
     "iopub.execute_input": "2024-09-07T10:11:14.075845Z",
     "iopub.status.busy": "2024-09-07T10:11:14.075407Z",
     "iopub.status.idle": "2024-09-07T10:11:14.085174Z",
     "shell.execute_reply": "2024-09-07T10:11:14.083621Z"
    },
    "papermill": {
     "duration": 0.026872,
     "end_time": "2024-09-07T10:11:14.087710",
     "exception": false,
     "start_time": "2024-09-07T10:11:14.060838",
     "status": "completed"
    },
    "tags": []
   },
   "outputs": [
    {
     "name": "stdout",
     "output_type": "stream",
     "text": [
      "player\n",
      "<class 'str'>    864\n",
      "Name: count, dtype: int64\n",
      "[\"{'id': 6332, 'name': 'Thomas Vermaelen'}\"\n",
      " \"{'id': 20055, 'name': 'Marc-André ter Stegen'}\"\n",
      " \"{'id': 6379, 'name': 'Sergi Roberto Carnicer'}\"\n",
      " \"{'id': 5213, 'name': 'Gerard Piqué Bernabéu'}\"\n",
      " \"{'id': 5492, 'name': 'Samuel Yves Umtiti'}\"\n",
      " \"{'id': 3501, 'name': 'Philippe Coutinho Correia'}\"\n",
      " \"{'id': 5203, 'name': 'Sergio Busquets i Burgos'}\"\n",
      " \"{'id': 5503, 'name': 'Lionel Andrés Messi Cuccittini'}\"\n",
      " \"{'id': 6616, 'name': 'Munir El Haddadi Mohamed'}\"\n",
      " \"{'id': 5470, 'name': 'Ivan Rakitić'}\"\n",
      " \"{'id': 5477, 'name': 'Ousmane Dembélé'}\"\n",
      " \"{'id': 5246, 'name': 'Luis Alberto Suárez Díaz'}\"\n",
      " \"{'id': 5211, 'name': 'Jordi Alba Ramos'}\"\n",
      " \"{'id': 3109, 'name': 'Malcom Filipe Silva de Oliveira'}\"]\n"
     ]
    }
   ],
   "source": [
    "# Check unique values and types in the 'player' column again\n",
    "print(barcelona_events['player'].apply(type).value_counts())\n",
    "print(barcelona_events['player'].unique())\n"
   ]
  },
  {
   "cell_type": "code",
   "execution_count": 21,
   "id": "7dd48754",
   "metadata": {
    "execution": {
     "iopub.execute_input": "2024-09-07T10:11:14.117138Z",
     "iopub.status.busy": "2024-09-07T10:11:14.116318Z",
     "iopub.status.idle": "2024-09-07T10:11:14.131489Z",
     "shell.execute_reply": "2024-09-07T10:11:14.130232Z"
    },
    "papermill": {
     "duration": 0.032396,
     "end_time": "2024-09-07T10:11:14.133932",
     "exception": false,
     "start_time": "2024-09-07T10:11:14.101536",
     "status": "completed"
    },
    "tags": []
   },
   "outputs": [
    {
     "name": "stdout",
     "output_type": "stream",
     "text": [
      "                                               player   x   y\n",
      "0      {'id': 20055, 'name': 'Marc-André ter Stegen'} NaN NaN\n",
      "1   {'id': 3109, 'name': 'Malcom Filipe Silva de O... NaN NaN\n",
      "2   {'id': 3501, 'name': 'Philippe Coutinho Correia'} NaN NaN\n",
      "3    {'id': 5203, 'name': 'Sergio Busquets i Burgos'} NaN NaN\n",
      "4            {'id': 5211, 'name': 'Jordi Alba Ramos'} NaN NaN\n",
      "5       {'id': 5213, 'name': 'Gerard Piqué Bernabéu'} NaN NaN\n",
      "6    {'id': 5246, 'name': 'Luis Alberto Suárez Díaz'} NaN NaN\n",
      "7                {'id': 5470, 'name': 'Ivan Rakitić'} NaN NaN\n",
      "8             {'id': 5477, 'name': 'Ousmane Dembélé'} NaN NaN\n",
      "9          {'id': 5492, 'name': 'Samuel Yves Umtiti'} NaN NaN\n",
      "10  {'id': 5503, 'name': 'Lionel Andrés Messi Cucc... NaN NaN\n",
      "11           {'id': 6332, 'name': 'Thomas Vermaelen'} NaN NaN\n",
      "12     {'id': 6379, 'name': 'Sergi Roberto Carnicer'} NaN NaN\n",
      "13   {'id': 6616, 'name': 'Munir El Haddadi Mohamed'} NaN NaN\n"
     ]
    }
   ],
   "source": [
    "# Group by player name to calculate average positions\n",
    "formation = barcelona_events.groupby('player').agg({'x': 'mean', 'y': 'mean'}).reset_index()\n",
    "\n",
    "# Display the formation data\n",
    "print(formation)\n"
   ]
  },
  {
   "cell_type": "code",
   "execution_count": 22,
   "id": "b94c6998",
   "metadata": {
    "execution": {
     "iopub.execute_input": "2024-09-07T10:11:14.162631Z",
     "iopub.status.busy": "2024-09-07T10:11:14.162224Z",
     "iopub.status.idle": "2024-09-07T10:11:14.170378Z",
     "shell.execute_reply": "2024-09-07T10:11:14.169029Z"
    },
    "papermill": {
     "duration": 0.02539,
     "end_time": "2024-09-07T10:11:14.172843",
     "exception": false,
     "start_time": "2024-09-07T10:11:14.147453",
     "status": "completed"
    },
    "tags": []
   },
   "outputs": [
    {
     "name": "stdout",
     "output_type": "stream",
     "text": [
      "16     [36.0, 4.0]\n",
      "20     [9.0, 33.0]\n",
      "24    [28.0, 73.0]\n",
      "28     [4.0, 67.0]\n",
      "32     [5.0, 44.0]\n",
      "Name: location, dtype: object\n"
     ]
    }
   ],
   "source": [
    "# Inspect the 'location' column to understand its format\n",
    "print(barcelona_events['location'].head())\n"
   ]
  },
  {
   "cell_type": "code",
   "execution_count": 23,
   "id": "58c24ba0",
   "metadata": {
    "execution": {
     "iopub.execute_input": "2024-09-07T10:11:14.202248Z",
     "iopub.status.busy": "2024-09-07T10:11:14.201806Z",
     "iopub.status.idle": "2024-09-07T10:11:14.211189Z",
     "shell.execute_reply": "2024-09-07T10:11:14.210179Z"
    },
    "papermill": {
     "duration": 0.027289,
     "end_time": "2024-09-07T10:11:14.213916",
     "exception": false,
     "start_time": "2024-09-07T10:11:14.186627",
     "status": "completed"
    },
    "tags": []
   },
   "outputs": [],
   "source": [
    "# Check for rows where 'location' is a list of length 2\n",
    "valid_locations = barcelona_events['location'].apply(lambda x: isinstance(x, list) and len(x) == 2)\n",
    "barcelona_events_valid = barcelona_events[valid_locations]\n",
    "\n"
   ]
  },
  {
   "cell_type": "code",
   "execution_count": 24,
   "id": "fad42487",
   "metadata": {
    "execution": {
     "iopub.execute_input": "2024-09-07T10:11:14.242945Z",
     "iopub.status.busy": "2024-09-07T10:11:14.242498Z",
     "iopub.status.idle": "2024-09-07T10:11:14.256258Z",
     "shell.execute_reply": "2024-09-07T10:11:14.255090Z"
    },
    "papermill": {
     "duration": 0.031678,
     "end_time": "2024-09-07T10:11:14.259013",
     "exception": false,
     "start_time": "2024-09-07T10:11:14.227335",
     "status": "completed"
    },
    "tags": []
   },
   "outputs": [],
   "source": [
    "# Ensure 'location' column is a list and has length 2\n",
    "valid_locations = barcelona_events['location'].apply(lambda x: isinstance(x, list) and len(x) == 2)\n",
    "barcelona_events_valid = barcelona_events[valid_locations].copy()  # Make a copy of the filtered DataFrame\n",
    "\n",
    "# Extract coordinates for valid entries\n",
    "coordinates = pd.DataFrame(barcelona_events_valid['location'].tolist(), index=barcelona_events_valid.index, columns=['x', 'y'])\n",
    "barcelona_events_valid.loc[:, ['x', 'y']] = coordinates\n"
   ]
  },
  {
   "cell_type": "code",
   "execution_count": 25,
   "id": "123e775a",
   "metadata": {
    "execution": {
     "iopub.execute_input": "2024-09-07T10:11:14.290365Z",
     "iopub.status.busy": "2024-09-07T10:11:14.289909Z",
     "iopub.status.idle": "2024-09-07T10:11:14.299497Z",
     "shell.execute_reply": "2024-09-07T10:11:14.298512Z"
    },
    "papermill": {
     "duration": 0.027239,
     "end_time": "2024-09-07T10:11:14.302027",
     "exception": false,
     "start_time": "2024-09-07T10:11:14.274788",
     "status": "completed"
    },
    "tags": []
   },
   "outputs": [],
   "source": [
    "# Handle invalid rows if needed (e.g., fill with default values or drop)\n",
    "barcelona_events_invalid = barcelona_events[~valid_locations].copy()  # Make a copy of the invalid DataFrame\n",
    "barcelona_events_invalid[['x', 'y']] = None  # or some default values\n"
   ]
  },
  {
   "cell_type": "code",
   "execution_count": 26,
   "id": "60705bdd",
   "metadata": {
    "execution": {
     "iopub.execute_input": "2024-09-07T10:11:14.331167Z",
     "iopub.status.busy": "2024-09-07T10:11:14.330006Z",
     "iopub.status.idle": "2024-09-07T10:11:14.342299Z",
     "shell.execute_reply": "2024-09-07T10:11:14.341220Z"
    },
    "papermill": {
     "duration": 0.029293,
     "end_time": "2024-09-07T10:11:14.344725",
     "exception": false,
     "start_time": "2024-09-07T10:11:14.315432",
     "status": "completed"
    },
    "tags": []
   },
   "outputs": [
    {
     "name": "stdout",
     "output_type": "stream",
     "text": [
      "                                               player          x          y\n",
      "0      {'id': 20055, 'name': 'Marc-André ter Stegen'}  12.648649  42.162162\n",
      "1   {'id': 3109, 'name': 'Malcom Filipe Silva de O...  63.000000  17.000000\n",
      "2   {'id': 3501, 'name': 'Philippe Coutinho Correia'}  71.825581  25.936047\n",
      "3    {'id': 5203, 'name': 'Sergio Busquets i Burgos'}  63.496491  39.370175\n",
      "4            {'id': 5211, 'name': 'Jordi Alba Ramos'}  77.230769  13.615385\n",
      "5       {'id': 5213, 'name': 'Gerard Piqué Bernabéu'}  47.925926  53.990741\n",
      "6    {'id': 5246, 'name': 'Luis Alberto Suárez Díaz'}  85.909091  40.545455\n",
      "7                {'id': 5470, 'name': 'Ivan Rakitić'}  66.817172  62.113131\n",
      "8             {'id': 5477, 'name': 'Ousmane Dembélé'}  85.631579  26.789474\n",
      "9          {'id': 5492, 'name': 'Samuel Yves Umtiti'}  51.000000  26.649485\n",
      "10  {'id': 5503, 'name': 'Lionel Andrés Messi Cucc...  79.622785  53.387342\n",
      "11           {'id': 6332, 'name': 'Thomas Vermaelen'}  63.560976  10.609756\n",
      "12     {'id': 6379, 'name': 'Sergi Roberto Carnicer'}  73.441000  70.961000\n",
      "13   {'id': 6616, 'name': 'Munir El Haddadi Mohamed'}  79.375000  52.916667\n"
     ]
    }
   ],
   "source": [
    "# Recalculate average positions for valid data\n",
    "formation = barcelona_events_valid.groupby('player').agg({'x': 'mean', 'y': 'mean'}).reset_index()\n",
    "\n",
    "# Display the updated formation data\n",
    "print(formation)\n"
   ]
  },
  {
   "cell_type": "code",
   "execution_count": 27,
   "id": "c1090312",
   "metadata": {
    "execution": {
     "iopub.execute_input": "2024-09-07T10:11:14.373541Z",
     "iopub.status.busy": "2024-09-07T10:11:14.373095Z",
     "iopub.status.idle": "2024-09-07T10:11:14.899944Z",
     "shell.execute_reply": "2024-09-07T10:11:14.898846Z"
    },
    "papermill": {
     "duration": 0.545308,
     "end_time": "2024-09-07T10:11:14.903419",
     "exception": false,
     "start_time": "2024-09-07T10:11:14.358111",
     "status": "completed"
    },
    "tags": []
   },
   "outputs": [
    {
     "data": {
      "image/png": "[encoded data removed]",
      "text/plain": [
       "<Figure size 1000x700 with 1 Axes>"
      ]
     },
     "metadata": {},
     "output_type": "display_data"
    }
   ],
   "source": [
    "# Plot average player positions\n",
    "plt.figure(figsize=(10, 7))\n",
    "plt.scatter(formation['x'], formation['y'], marker='o', color='blue')\n",
    "\n",
    "# Annotate points with player names only\n",
    "for i, row in formation.iterrows():\n",
    "    plt.text(row['x'], row['y'], row['player'], fontsize=9, ha='right')\n",
    "\n",
    "# Set plot labels\n",
    "plt.title('Average Player Positions')\n",
    "plt.xlabel('X Position')\n",
    "plt.ylabel('Y Position')\n",
    "plt.xlim(0, 100)\n",
    "plt.ylim(0, 100)\n",
    "plt.grid(True)\n",
    "plt.show()\n"
   ]
  },
  {
   "cell_type": "code",
   "execution_count": 28,
   "id": "1612d81d",
   "metadata": {
    "execution": {
     "iopub.execute_input": "2024-09-07T10:11:14.937119Z",
     "iopub.status.busy": "2024-09-07T10:11:14.936061Z",
     "iopub.status.idle": "2024-09-07T10:11:17.711704Z",
     "shell.execute_reply": "2024-09-07T10:11:17.710701Z"
    },
    "papermill": {
     "duration": 2.7953,
     "end_time": "2024-09-07T10:11:17.714372",
     "exception": false,
     "start_time": "2024-09-07T10:11:14.919072",
     "status": "completed"
    },
    "tags": []
   },
   "outputs": [
    {
     "data": {
      "text/html": [
       "        <script type=\"text/javascript\">\n",
       "        window.PlotlyConfig = {MathJaxConfig: 'local'};\n",
       "        if (window.MathJax && window.MathJax.Hub && window.MathJax.Hub.Config) {window.MathJax.Hub.Config({SVG: {font: \"STIX-Web\"}});}\n",
       "        if (typeof require !== 'undefined') {\n",
       "        require.undef(\"plotly\");\n",
       "        requirejs.config({\n",
       "            paths: {\n",
       "                'plotly': ['https://cdn.plot.ly/plotly-2.32.0.min']\n",
       "            }\n",
       "        });\n",
       "        require(['plotly'], function(Plotly) {\n",
       "            window._Plotly = Plotly;\n",
       "        });\n",
       "        }\n",
       "        </script>\n",
       "        "
      ]
     },
     "metadata": {},
     "output_type": "display_data"
    },
    {
     "data": {
      "text/html": [
       "<div>                            <div id=\"54a3c3d0-d987-465e-a05d-b0055c750f34\" class=\"plotly-graph-div\" style=\"height:525px; width:100%;\"></div>            <script type=\"text/javascript\">                require([\"plotly\"], function(Plotly) {                    window.PLOTLYENV=window.PLOTLYENV || {};                                    if (document.getElementById(\"54a3c3d0-d987-465e-a05d-b0055c750f34\")) {                    Plotly.newPlot(                        \"54a3c3d0-d987-465e-a05d-b0055c750f34\",                        [{\"hovertemplate\":\"player=%{text}\\u003cbr\\u003eX Position=%{x}\\u003cbr\\u003eY Position=%{y}\\u003cextra\\u003e\\u003c\\u002fextra\\u003e\",\"legendgroup\":\"{'id': 20055, 'name': 'Marc-André ter Stegen'}\",\"marker\":{\"color\":\"#636efa\",\"symbol\":\"circle\"},\"mode\":\"markers+text\",\"name\":\"{'id': 20055, 'name': 'Marc-André ter Stegen'}\",\"orientation\":\"v\",\"showlegend\":true,\"text\":[\"{'id': 20055, 'name': 'Marc-André ter Stegen'}\"],\"x\":[12.64864864864865],\"xaxis\":\"x\",\"y\":[42.16216216216216],\"yaxis\":\"y\",\"type\":\"scatter\",\"textposition\":\"top center\"},{\"hovertemplate\":\"player=%{text}\\u003cbr\\u003eX Position=%{x}\\u003cbr\\u003eY Position=%{y}\\u003cextra\\u003e\\u003c\\u002fextra\\u003e\",\"legendgroup\":\"{'id': 3109, 'name': 'Malcom Filipe Silva de Oliveira'}\",\"marker\":{\"color\":\"#EF553B\",\"symbol\":\"circle\"},\"mode\":\"markers+text\",\"name\":\"{'id': 3109, 'name': 'Malcom Filipe Silva de Oliveira'}\",\"orientation\":\"v\",\"showlegend\":true,\"text\":[\"{'id': 3109, 'name': 'Malcom Filipe Silva de Oliveira'}\"],\"x\":[63.0],\"xaxis\":\"x\",\"y\":[17.0],\"yaxis\":\"y\",\"type\":\"scatter\",\"textposition\":\"top center\"},{\"hovertemplate\":\"player=%{text}\\u003cbr\\u003eX Position=%{x}\\u003cbr\\u003eY Position=%{y}\\u003cextra\\u003e\\u003c\\u002fextra\\u003e\",\"legendgroup\":\"{'id': 3501, 'name': 'Philippe Coutinho Correia'}\",\"marker\":{\"color\":\"#00cc96\",\"symbol\":\"circle\"},\"mode\":\"markers+text\",\"name\":\"{'id': 3501, 'name': 'Philippe Coutinho Correia'}\",\"orientation\":\"v\",\"showlegend\":true,\"text\":[\"{'id': 3501, 'name': 'Philippe Coutinho Correia'}\"],\"x\":[71.82558139534883],\"xaxis\":\"x\",\"y\":[25.936046511627907],\"yaxis\":\"y\",\"type\":\"scatter\",\"textposition\":\"top center\"},{\"hovertemplate\":\"player=%{text}\\u003cbr\\u003eX Position=%{x}\\u003cbr\\u003eY Position=%{y}\\u003cextra\\u003e\\u003c\\u002fextra\\u003e\",\"legendgroup\":\"{'id': 5203, 'name': 'Sergio Busquets i Burgos'}\",\"marker\":{\"color\":\"#ab63fa\",\"symbol\":\"circle\"},\"mode\":\"markers+text\",\"name\":\"{'id': 5203, 'name': 'Sergio Busquets i Burgos'}\",\"orientation\":\"v\",\"showlegend\":true,\"text\":[\"{'id': 5203, 'name': 'Sergio Busquets i Burgos'}\"],\"x\":[63.49649122807018],\"xaxis\":\"x\",\"y\":[39.37017543859649],\"yaxis\":\"y\",\"type\":\"scatter\",\"textposition\":\"top center\"},{\"hovertemplate\":\"player=%{text}\\u003cbr\\u003eX Position=%{x}\\u003cbr\\u003eY Position=%{y}\\u003cextra\\u003e\\u003c\\u002fextra\\u003e\",\"legendgroup\":\"{'id': 5211, 'name': 'Jordi Alba Ramos'}\",\"marker\":{\"color\":\"#FFA15A\",\"symbol\":\"circle\"},\"mode\":\"markers+text\",\"name\":\"{'id': 5211, 'name': 'Jordi Alba Ramos'}\",\"orientation\":\"v\",\"showlegend\":true,\"text\":[\"{'id': 5211, 'name': 'Jordi Alba Ramos'}\"],\"x\":[77.23076923076923],\"xaxis\":\"x\",\"y\":[13.615384615384615],\"yaxis\":\"y\",\"type\":\"scatter\",\"textposition\":\"top center\"},{\"hovertemplate\":\"player=%{text}\\u003cbr\\u003eX Position=%{x}\\u003cbr\\u003eY Position=%{y}\\u003cextra\\u003e\\u003c\\u002fextra\\u003e\",\"legendgroup\":\"{'id': 5213, 'name': 'Gerard Piqué Bernabéu'}\",\"marker\":{\"color\":\"#19d3f3\",\"symbol\":\"circle\"},\"mode\":\"markers+text\",\"name\":\"{'id': 5213, 'name': 'Gerard Piqué Bernabéu'}\",\"orientation\":\"v\",\"showlegend\":true,\"text\":[\"{'id': 5213, 'name': 'Gerard Piqué Bernabéu'}\"],\"x\":[47.925925925925924],\"xaxis\":\"x\",\"y\":[53.99074074074074],\"yaxis\":\"y\",\"type\":\"scatter\",\"textposition\":\"top center\"},{\"hovertemplate\":\"player=%{text}\\u003cbr\\u003eX Position=%{x}\\u003cbr\\u003eY Position=%{y}\\u003cextra\\u003e\\u003c\\u002fextra\\u003e\",\"legendgroup\":\"{'id': 5246, 'name': 'Luis Alberto Suárez Díaz'}\",\"marker\":{\"color\":\"#FF6692\",\"symbol\":\"circle\"},\"mode\":\"markers+text\",\"name\":\"{'id': 5246, 'name': 'Luis Alberto Suárez Díaz'}\",\"orientation\":\"v\",\"showlegend\":true,\"text\":[\"{'id': 5246, 'name': 'Luis Alberto Suárez Díaz'}\"],\"x\":[85.9090909090909],\"xaxis\":\"x\",\"y\":[40.54545454545455],\"yaxis\":\"y\",\"type\":\"scatter\",\"textposition\":\"top center\"},{\"hovertemplate\":\"player=%{text}\\u003cbr\\u003eX Position=%{x}\\u003cbr\\u003eY Position=%{y}\\u003cextra\\u003e\\u003c\\u002fextra\\u003e\",\"legendgroup\":\"{'id': 5470, 'name': 'Ivan Rakitić'}\",\"marker\":{\"color\":\"#B6E880\",\"symbol\":\"circle\"},\"mode\":\"markers+text\",\"name\":\"{'id': 5470, 'name': 'Ivan Rakitić'}\",\"orientation\":\"v\",\"showlegend\":true,\"text\":[\"{'id': 5470, 'name': 'Ivan Rakitić'}\"],\"x\":[66.81717171717172],\"xaxis\":\"x\",\"y\":[62.11313131313131],\"yaxis\":\"y\",\"type\":\"scatter\",\"textposition\":\"top center\"},{\"hovertemplate\":\"player=%{text}\\u003cbr\\u003eX Position=%{x}\\u003cbr\\u003eY Position=%{y}\\u003cextra\\u003e\\u003c\\u002fextra\\u003e\",\"legendgroup\":\"{'id': 5477, 'name': 'Ousmane Dembélé'}\",\"marker\":{\"color\":\"#FF97FF\",\"symbol\":\"circle\"},\"mode\":\"markers+text\",\"name\":\"{'id': 5477, 'name': 'Ousmane Dembélé'}\",\"orientation\":\"v\",\"showlegend\":true,\"text\":[\"{'id': 5477, 'name': 'Ousmane Dembélé'}\"],\"x\":[85.63157894736842],\"xaxis\":\"x\",\"y\":[26.789473684210527],\"yaxis\":\"y\",\"type\":\"scatter\",\"textposition\":\"top center\"},{\"hovertemplate\":\"player=%{text}\\u003cbr\\u003eX Position=%{x}\\u003cbr\\u003eY Position=%{y}\\u003cextra\\u003e\\u003c\\u002fextra\\u003e\",\"legendgroup\":\"{'id': 5492, 'name': 'Samuel Yves Umtiti'}\",\"marker\":{\"color\":\"#FECB52\",\"symbol\":\"circle\"},\"mode\":\"markers+text\",\"name\":\"{'id': 5492, 'name': 'Samuel Yves Umtiti'}\",\"orientation\":\"v\",\"showlegend\":true,\"text\":[\"{'id': 5492, 'name': 'Samuel Yves Umtiti'}\"],\"x\":[51.0],\"xaxis\":\"x\",\"y\":[26.649484536082475],\"yaxis\":\"y\",\"type\":\"scatter\",\"textposition\":\"top center\"},{\"hovertemplate\":\"player=%{text}\\u003cbr\\u003eX Position=%{x}\\u003cbr\\u003eY Position=%{y}\\u003cextra\\u003e\\u003c\\u002fextra\\u003e\",\"legendgroup\":\"{'id': 5503, 'name': 'Lionel Andrés Messi Cuccittini'}\",\"marker\":{\"color\":\"#636efa\",\"symbol\":\"circle\"},\"mode\":\"markers+text\",\"name\":\"{'id': 5503, 'name': 'Lionel Andrés Messi Cuccittini'}\",\"orientation\":\"v\",\"showlegend\":true,\"text\":[\"{'id': 5503, 'name': 'Lionel Andrés Messi Cuccittini'}\"],\"x\":[79.62278481012657],\"xaxis\":\"x\",\"y\":[53.387341772151906],\"yaxis\":\"y\",\"type\":\"scatter\",\"textposition\":\"top center\"},{\"hovertemplate\":\"player=%{text}\\u003cbr\\u003eX Position=%{x}\\u003cbr\\u003eY Position=%{y}\\u003cextra\\u003e\\u003c\\u002fextra\\u003e\",\"legendgroup\":\"{'id': 6332, 'name': 'Thomas Vermaelen'}\",\"marker\":{\"color\":\"#EF553B\",\"symbol\":\"circle\"},\"mode\":\"markers+text\",\"name\":\"{'id': 6332, 'name': 'Thomas Vermaelen'}\",\"orientation\":\"v\",\"showlegend\":true,\"text\":[\"{'id': 6332, 'name': 'Thomas Vermaelen'}\"],\"x\":[63.5609756097561],\"xaxis\":\"x\",\"y\":[10.609756097560975],\"yaxis\":\"y\",\"type\":\"scatter\",\"textposition\":\"top center\"},{\"hovertemplate\":\"player=%{text}\\u003cbr\\u003eX Position=%{x}\\u003cbr\\u003eY Position=%{y}\\u003cextra\\u003e\\u003c\\u002fextra\\u003e\",\"legendgroup\":\"{'id': 6379, 'name': 'Sergi Roberto Carnicer'}\",\"marker\":{\"color\":\"#00cc96\",\"symbol\":\"circle\"},\"mode\":\"markers+text\",\"name\":\"{'id': 6379, 'name': 'Sergi Roberto Carnicer'}\",\"orientation\":\"v\",\"showlegend\":true,\"text\":[\"{'id': 6379, 'name': 'Sergi Roberto Carnicer'}\"],\"x\":[73.441],\"xaxis\":\"x\",\"y\":[70.961],\"yaxis\":\"y\",\"type\":\"scatter\",\"textposition\":\"top center\"},{\"hovertemplate\":\"player=%{text}\\u003cbr\\u003eX Position=%{x}\\u003cbr\\u003eY Position=%{y}\\u003cextra\\u003e\\u003c\\u002fextra\\u003e\",\"legendgroup\":\"{'id': 6616, 'name': 'Munir El Haddadi Mohamed'}\",\"marker\":{\"color\":\"#ab63fa\",\"symbol\":\"circle\"},\"mode\":\"markers+text\",\"name\":\"{'id': 6616, 'name': 'Munir El Haddadi Mohamed'}\",\"orientation\":\"v\",\"showlegend\":true,\"text\":[\"{'id': 6616, 'name': 'Munir El Haddadi Mohamed'}\"],\"x\":[79.375],\"xaxis\":\"x\",\"y\":[52.916666666666664],\"yaxis\":\"y\",\"type\":\"scatter\",\"textposition\":\"top center\"}],                        {\"template\":{\"data\":{\"histogram2dcontour\":[{\"type\":\"histogram2dcontour\",\"colorbar\":{\"outlinewidth\":0,\"ticks\":\"\"},\"colorscale\":[[0.0,\"#0d0887\"],[0.1111111111111111,\"#46039f\"],[0.2222222222222222,\"#7201a8\"],[0.3333333333333333,\"#9c179e\"],[0.4444444444444444,\"#bd3786\"],[0.5555555555555556,\"#d8576b\"],[0.6666666666666666,\"#ed7953\"],[0.7777777777777778,\"#fb9f3a\"],[0.8888888888888888,\"#fdca26\"],[1.0,\"#f0f921\"]]}],\"choropleth\":[{\"type\":\"choropleth\",\"colorbar\":{\"outlinewidth\":0,\"ticks\":\"\"}}],\"histogram2d\":[{\"type\":\"histogram2d\",\"colorbar\":{\"outlinewidth\":0,\"ticks\":\"\"},\"colorscale\":[[0.0,\"#0d0887\"],[0.1111111111111111,\"#46039f\"],[0.2222222222222222,\"#7201a8\"],[0.3333333333333333,\"#9c179e\"],[0.4444444444444444,\"#bd3786\"],[0.5555555555555556,\"#d8576b\"],[0.6666666666666666,\"#ed7953\"],[0.7777777777777778,\"#fb9f3a\"],[0.8888888888888888,\"#fdca26\"],[1.0,\"#f0f921\"]]}],\"heatmap\":[{\"type\":\"heatmap\",\"colorbar\":{\"outlinewidth\":0,\"ticks\":\"\"},\"colorscale\":[[0.0,\"#0d0887\"],[0.1111111111111111,\"#46039f\"],[0.2222222222222222,\"#7201a8\"],[0.3333333333333333,\"#9c179e\"],[0.4444444444444444,\"#bd3786\"],[0.5555555555555556,\"#d8576b\"],[0.6666666666666666,\"#ed7953\"],[0.7777777777777778,\"#fb9f3a\"],[0.8888888888888888,\"#fdca26\"],[1.0,\"#f0f921\"]]}],\"heatmapgl\":[{\"type\":\"heatmapgl\",\"colorbar\":{\"outlinewidth\":0,\"ticks\":\"\"},\"colorscale\":[[0.0,\"#0d0887\"],[0.1111111111111111,\"#46039f\"],[0.2222222222222222,\"#7201a8\"],[0.3333333333333333,\"#9c179e\"],[0.4444444444444444,\"#bd3786\"],[0.5555555555555556,\"#d8576b\"],[0.6666666666666666,\"#ed7953\"],[0.7777777777777778,\"#fb9f3a\"],[0.8888888888888888,\"#fdca26\"],[1.0,\"#f0f921\"]]}],\"contourcarpet\":[{\"type\":\"contourcarpet\",\"colorbar\":{\"outlinewidth\":0,\"ticks\":\"\"}}],\"contour\":[{\"type\":\"contour\",\"colorbar\":{\"outlinewidth\":0,\"ticks\":\"\"},\"colorscale\":[[0.0,\"#0d0887\"],[0.1111111111111111,\"#46039f\"],[0.2222222222222222,\"#7201a8\"],[0.3333333333333333,\"#9c179e\"],[0.4444444444444444,\"#bd3786\"],[0.5555555555555556,\"#d8576b\"],[0.6666666666666666,\"#ed7953\"],[0.7777777777777778,\"#fb9f3a\"],[0.8888888888888888,\"#fdca26\"],[1.0,\"#f0f921\"]]}],\"surface\":[{\"type\":\"surface\",\"colorbar\":{\"outlinewidth\":0,\"ticks\":\"\"},\"colorscale\":[[0.0,\"#0d0887\"],[0.1111111111111111,\"#46039f\"],[0.2222222222222222,\"#7201a8\"],[0.3333333333333333,\"#9c179e\"],[0.4444444444444444,\"#bd3786\"],[0.5555555555555556,\"#d8576b\"],[0.6666666666666666,\"#ed7953\"],[0.7777777777777778,\"#fb9f3a\"],[0.8888888888888888,\"#fdca26\"],[1.0,\"#f0f921\"]]}],\"mesh3d\":[{\"type\":\"mesh3d\",\"colorbar\":{\"outlinewidth\":0,\"ticks\":\"\"}}],\"scatter\":[{\"fillpattern\":{\"fillmode\":\"overlay\",\"size\":10,\"solidity\":0.2},\"type\":\"scatter\"}],\"parcoords\":[{\"type\":\"parcoords\",\"line\":{\"colorbar\":{\"outlinewidth\":0,\"ticks\":\"\"}}}],\"scatterpolargl\":[{\"type\":\"scatterpolargl\",\"marker\":{\"colorbar\":{\"outlinewidth\":0,\"ticks\":\"\"}}}],\"bar\":[{\"error_x\":{\"color\":\"#2a3f5f\"},\"error_y\":{\"color\":\"#2a3f5f\"},\"marker\":{\"line\":{\"color\":\"#E5ECF6\",\"width\":0.5},\"pattern\":{\"fillmode\":\"overlay\",\"size\":10,\"solidity\":0.2}},\"type\":\"bar\"}],\"scattergeo\":[{\"type\":\"scattergeo\",\"marker\":{\"colorbar\":{\"outlinewidth\":0,\"ticks\":\"\"}}}],\"scatterpolar\":[{\"type\":\"scatterpolar\",\"marker\":{\"colorbar\":{\"outlinewidth\":0,\"ticks\":\"\"}}}],\"histogram\":[{\"marker\":{\"pattern\":{\"fillmode\":\"overlay\",\"size\":10,\"solidity\":0.2}},\"type\":\"histogram\"}],\"scattergl\":[{\"type\":\"scattergl\",\"marker\":{\"colorbar\":{\"outlinewidth\":0,\"ticks\":\"\"}}}],\"scatter3d\":[{\"type\":\"scatter3d\",\"line\":{\"colorbar\":{\"outlinewidth\":0,\"ticks\":\"\"}},\"marker\":{\"colorbar\":{\"outlinewidth\":0,\"ticks\":\"\"}}}],\"scattermapbox\":[{\"type\":\"scattermapbox\",\"marker\":{\"colorbar\":{\"outlinewidth\":0,\"ticks\":\"\"}}}],\"scatterternary\":[{\"type\":\"scatterternary\",\"marker\":{\"colorbar\":{\"outlinewidth\":0,\"ticks\":\"\"}}}],\"scattercarpet\":[{\"type\":\"scattercarpet\",\"marker\":{\"colorbar\":{\"outlinewidth\":0,\"ticks\":\"\"}}}],\"carpet\":[{\"aaxis\":{\"endlinecolor\":\"#2a3f5f\",\"gridcolor\":\"white\",\"linecolor\":\"white\",\"minorgridcolor\":\"white\",\"startlinecolor\":\"#2a3f5f\"},\"baxis\":{\"endlinecolor\":\"#2a3f5f\",\"gridcolor\":\"white\",\"linecolor\":\"white\",\"minorgridcolor\":\"white\",\"startlinecolor\":\"#2a3f5f\"},\"type\":\"carpet\"}],\"table\":[{\"cells\":{\"fill\":{\"color\":\"#EBF0F8\"},\"line\":{\"color\":\"white\"}},\"header\":{\"fill\":{\"color\":\"#C8D4E3\"},\"line\":{\"color\":\"white\"}},\"type\":\"table\"}],\"barpolar\":[{\"marker\":{\"line\":{\"color\":\"#E5ECF6\",\"width\":0.5},\"pattern\":{\"fillmode\":\"overlay\",\"size\":10,\"solidity\":0.2}},\"type\":\"barpolar\"}],\"pie\":[{\"automargin\":true,\"type\":\"pie\"}]},\"layout\":{\"autotypenumbers\":\"strict\",\"colorway\":[\"#636efa\",\"#EF553B\",\"#00cc96\",\"#ab63fa\",\"#FFA15A\",\"#19d3f3\",\"#FF6692\",\"#B6E880\",\"#FF97FF\",\"#FECB52\"],\"font\":{\"color\":\"#2a3f5f\"},\"hovermode\":\"closest\",\"hoverlabel\":{\"align\":\"left\"},\"paper_bgcolor\":\"white\",\"plot_bgcolor\":\"#E5ECF6\",\"polar\":{\"bgcolor\":\"#E5ECF6\",\"angularaxis\":{\"gridcolor\":\"white\",\"linecolor\":\"white\",\"ticks\":\"\"},\"radialaxis\":{\"gridcolor\":\"white\",\"linecolor\":\"white\",\"ticks\":\"\"}},\"ternary\":{\"bgcolor\":\"#E5ECF6\",\"aaxis\":{\"gridcolor\":\"white\",\"linecolor\":\"white\",\"ticks\":\"\"},\"baxis\":{\"gridcolor\":\"white\",\"linecolor\":\"white\",\"ticks\":\"\"},\"caxis\":{\"gridcolor\":\"white\",\"linecolor\":\"white\",\"ticks\":\"\"}},\"coloraxis\":{\"colorbar\":{\"outlinewidth\":0,\"ticks\":\"\"}},\"colorscale\":{\"sequential\":[[0.0,\"#0d0887\"],[0.1111111111111111,\"#46039f\"],[0.2222222222222222,\"#7201a8\"],[0.3333333333333333,\"#9c179e\"],[0.4444444444444444,\"#bd3786\"],[0.5555555555555556,\"#d8576b\"],[0.6666666666666666,\"#ed7953\"],[0.7777777777777778,\"#fb9f3a\"],[0.8888888888888888,\"#fdca26\"],[1.0,\"#f0f921\"]],\"sequentialminus\":[[0.0,\"#0d0887\"],[0.1111111111111111,\"#46039f\"],[0.2222222222222222,\"#7201a8\"],[0.3333333333333333,\"#9c179e\"],[0.4444444444444444,\"#bd3786\"],[0.5555555555555556,\"#d8576b\"],[0.6666666666666666,\"#ed7953\"],[0.7777777777777778,\"#fb9f3a\"],[0.8888888888888888,\"#fdca26\"],[1.0,\"#f0f921\"]],\"diverging\":[[0,\"#8e0152\"],[0.1,\"#c51b7d\"],[0.2,\"#de77ae\"],[0.3,\"#f1b6da\"],[0.4,\"#fde0ef\"],[0.5,\"#f7f7f7\"],[0.6,\"#e6f5d0\"],[0.7,\"#b8e186\"],[0.8,\"#7fbc41\"],[0.9,\"#4d9221\"],[1,\"#276419\"]]},\"xaxis\":{\"gridcolor\":\"white\",\"linecolor\":\"white\",\"ticks\":\"\",\"title\":{\"standoff\":15},\"zerolinecolor\":\"white\",\"automargin\":true,\"zerolinewidth\":2},\"yaxis\":{\"gridcolor\":\"white\",\"linecolor\":\"white\",\"ticks\":\"\",\"title\":{\"standoff\":15},\"zerolinecolor\":\"white\",\"automargin\":true,\"zerolinewidth\":2},\"scene\":{\"xaxis\":{\"backgroundcolor\":\"#E5ECF6\",\"gridcolor\":\"white\",\"linecolor\":\"white\",\"showbackground\":true,\"ticks\":\"\",\"zerolinecolor\":\"white\",\"gridwidth\":2},\"yaxis\":{\"backgroundcolor\":\"#E5ECF6\",\"gridcolor\":\"white\",\"linecolor\":\"white\",\"showbackground\":true,\"ticks\":\"\",\"zerolinecolor\":\"white\",\"gridwidth\":2},\"zaxis\":{\"backgroundcolor\":\"#E5ECF6\",\"gridcolor\":\"white\",\"linecolor\":\"white\",\"showbackground\":true,\"ticks\":\"\",\"zerolinecolor\":\"white\",\"gridwidth\":2}},\"shapedefaults\":{\"line\":{\"color\":\"#2a3f5f\"}},\"annotationdefaults\":{\"arrowcolor\":\"#2a3f5f\",\"arrowhead\":0,\"arrowwidth\":1},\"geo\":{\"bgcolor\":\"white\",\"landcolor\":\"#E5ECF6\",\"subunitcolor\":\"white\",\"showland\":true,\"showlakes\":true,\"lakecolor\":\"white\"},\"title\":{\"x\":0.05},\"mapbox\":{\"style\":\"light\"}}},\"xaxis\":{\"anchor\":\"y\",\"domain\":[0.0,1.0],\"title\":{\"text\":\"X Position\"},\"range\":[0,100]},\"yaxis\":{\"anchor\":\"x\",\"domain\":[0.0,1.0],\"title\":{\"text\":\"Y Position\"},\"range\":[0,100]},\"legend\":{\"title\":{\"text\":\"player\"},\"tracegroupgap\":0},\"title\":{\"text\":\"Average Player Positions by Team\"}},                        {\"responsive\": true}                    ).then(function(){\n",
       "                            \n",
       "var gd = document.getElementById('54a3c3d0-d987-465e-a05d-b0055c750f34');\n",
       "var x = new MutationObserver(function (mutations, observer) {{\n",
       "        var display = window.getComputedStyle(gd).display;\n",
       "        if (!display || display === 'none') {{\n",
       "            console.log([gd, 'removed!']);\n",
       "            Plotly.purge(gd);\n",
       "            observer.disconnect();\n",
       "        }}\n",
       "}});\n",
       "\n",
       "// Listen for the removal of the full notebook cells\n",
       "var notebookContainer = gd.closest('#notebook-container');\n",
       "if (notebookContainer) {{\n",
       "    x.observe(notebookContainer, {childList: true});\n",
       "}}\n",
       "\n",
       "// Listen for the clearing of the current output cell\n",
       "var outputEl = gd.closest('.output');\n",
       "if (outputEl) {{\n",
       "    x.observe(outputEl, {childList: true});\n",
       "}}\n",
       "\n",
       "                        })                };                });            </script>        </div>"
      ]
     },
     "metadata": {},
     "output_type": "display_data"
    }
   ],
   "source": [
    "import plotly.express as px\n",
    "\n",
    "# Plotly scatter plot with player names\n",
    "fig = px.scatter(formation, x='x', y='y', text='player', color='player',\n",
    "                 title='Average Player Positions by Team',\n",
    "                 labels={'x': 'X Position', 'y': 'Y Position'})\n",
    "\n",
    "# Update the layout\n",
    "fig.update_traces(textposition='top center')\n",
    "fig.update_layout(xaxis_title='X Position',\n",
    "                  yaxis_title='Y Position',\n",
    "                  xaxis_range=[0, 100],\n",
    "                  yaxis_range=[0, 100])\n",
    "fig.show()\n"
   ]
  },
  {
   "cell_type": "code",
   "execution_count": 29,
   "id": "a36e90d9",
   "metadata": {
    "execution": {
     "iopub.execute_input": "2024-09-07T10:11:17.748009Z",
     "iopub.status.busy": "2024-09-07T10:11:17.746956Z",
     "iopub.status.idle": "2024-09-07T10:11:18.976612Z",
     "shell.execute_reply": "2024-09-07T10:11:18.975260Z"
    },
    "papermill": {
     "duration": 1.249746,
     "end_time": "2024-09-07T10:11:18.979877",
     "exception": false,
     "start_time": "2024-09-07T10:11:17.730131",
     "status": "completed"
    },
    "tags": []
   },
   "outputs": [
    {
     "name": "stderr",
     "output_type": "stream",
     "text": [
      "/opt/conda/lib/python3.10/site-packages/sklearn/cluster/_kmeans.py:870: FutureWarning:\n",
      "\n",
      "The default value of `n_init` will change from 10 to 'auto' in 1.4. Set the value of `n_init` explicitly to suppress the warning\n",
      "\n"
     ]
    },
    {
     "data": {
      "image/png": "[encoded data removed]",
      "text/plain": [
       "<Figure size 1200x800 with 1 Axes>"
      ]
     },
     "metadata": {},
     "output_type": "display_data"
    }
   ],
   "source": [
    "from sklearn.cluster import KMeans\n",
    "\n",
    "# Assume we want to find 3 clusters\n",
    "kmeans = KMeans(n_clusters=3, random_state=0).fit(formation[['x', 'y']])\n",
    "formation['cluster'] = kmeans.labels_\n",
    "\n",
    "plt.figure(figsize=(12, 8))\n",
    "for cluster in formation['cluster'].unique():\n",
    "    cluster_data = formation[formation['cluster'] == cluster]\n",
    "    plt.scatter(cluster_data['x'], cluster_data['y'], marker='o', label=f'Cluster {cluster}')\n",
    "\n",
    "    # Annotate points with player names\n",
    "    for i, row in cluster_data.iterrows():\n",
    "        plt.text(row['x'], row['y'], row['player'], fontsize=9)\n",
    "\n",
    "# Set plot labels\n",
    "plt.title('Player Positions with Clustering')\n",
    "plt.xlabel('X Position')\n",
    "plt.ylabel('Y Position')\n",
    "plt.xlim(0, 100)\n",
    "plt.ylim(0, 100)\n",
    "plt.grid(True)\n",
    "plt.legend()\n",
    "plt.show()\n"
   ]
  },
  {
   "cell_type": "code",
   "execution_count": 30,
   "id": "57945638",
   "metadata": {
    "execution": {
     "iopub.execute_input": "2024-09-07T10:11:19.017514Z",
     "iopub.status.busy": "2024-09-07T10:11:19.016270Z",
     "iopub.status.idle": "2024-09-07T10:11:19.139537Z",
     "shell.execute_reply": "2024-09-07T10:11:19.138338Z"
    },
    "papermill": {
     "duration": 0.144173,
     "end_time": "2024-09-07T10:11:19.141854",
     "exception": false,
     "start_time": "2024-09-07T10:11:18.997681",
     "status": "completed"
    },
    "tags": []
   },
   "outputs": [
    {
     "name": "stdout",
     "output_type": "stream",
     "text": [
      "    x   y\n",
      "0  10  10\n",
      "1  20  20\n",
      "2  30  30\n",
      "3  40  40\n",
      "4  50  50\n",
      "                x           y\n",
      "count   10.000000   10.000000\n",
      "mean    55.000000   55.000000\n",
      "std     30.276504   30.276504\n",
      "min     10.000000   10.000000\n",
      "25%     32.500000   32.500000\n",
      "50%     55.000000   55.000000\n",
      "75%     77.500000   77.500000\n",
      "max    100.000000  100.000000\n"
     ]
    },
    {
     "data": {
      "text/html": [
       "<div>                            <div id=\"ea1caf9d-0cea-4de0-9fe5-00ed33569fe4\" class=\"plotly-graph-div\" style=\"height:525px; width:100%;\"></div>            <script type=\"text/javascript\">                require([\"plotly\"], function(Plotly) {                    window.PLOTLYENV=window.PLOTLYENV || {};                                    if (document.getElementById(\"ea1caf9d-0cea-4de0-9fe5-00ed33569fe4\")) {                    Plotly.newPlot(                        \"ea1caf9d-0cea-4de0-9fe5-00ed33569fe4\",                        [{\"coloraxis\":\"coloraxis\",\"hovertemplate\":\"X Position=%{x}\\u003cbr\\u003eY Position=%{y}\\u003cbr\\u003ecount=%{z}\\u003cextra\\u003e\\u003c\\u002fextra\\u003e\",\"name\":\"\",\"x\":[10,20,30,40,50,60,70,80,90,100],\"xaxis\":\"x\",\"xbingroup\":\"x\",\"y\":[10,20,30,40,50,60,70,80,90,100],\"yaxis\":\"y\",\"ybingroup\":\"y\",\"type\":\"histogram2d\"}],                        {\"template\":{\"data\":{\"histogram2dcontour\":[{\"type\":\"histogram2dcontour\",\"colorbar\":{\"outlinewidth\":0,\"ticks\":\"\"},\"colorscale\":[[0.0,\"#0d0887\"],[0.1111111111111111,\"#46039f\"],[0.2222222222222222,\"#7201a8\"],[0.3333333333333333,\"#9c179e\"],[0.4444444444444444,\"#bd3786\"],[0.5555555555555556,\"#d8576b\"],[0.6666666666666666,\"#ed7953\"],[0.7777777777777778,\"#fb9f3a\"],[0.8888888888888888,\"#fdca26\"],[1.0,\"#f0f921\"]]}],\"choropleth\":[{\"type\":\"choropleth\",\"colorbar\":{\"outlinewidth\":0,\"ticks\":\"\"}}],\"histogram2d\":[{\"type\":\"histogram2d\",\"colorbar\":{\"outlinewidth\":0,\"ticks\":\"\"},\"colorscale\":[[0.0,\"#0d0887\"],[0.1111111111111111,\"#46039f\"],[0.2222222222222222,\"#7201a8\"],[0.3333333333333333,\"#9c179e\"],[0.4444444444444444,\"#bd3786\"],[0.5555555555555556,\"#d8576b\"],[0.6666666666666666,\"#ed7953\"],[0.7777777777777778,\"#fb9f3a\"],[0.8888888888888888,\"#fdca26\"],[1.0,\"#f0f921\"]]}],\"heatmap\":[{\"type\":\"heatmap\",\"colorbar\":{\"outlinewidth\":0,\"ticks\":\"\"},\"colorscale\":[[0.0,\"#0d0887\"],[0.1111111111111111,\"#46039f\"],[0.2222222222222222,\"#7201a8\"],[0.3333333333333333,\"#9c179e\"],[0.4444444444444444,\"#bd3786\"],[0.5555555555555556,\"#d8576b\"],[0.6666666666666666,\"#ed7953\"],[0.7777777777777778,\"#fb9f3a\"],[0.8888888888888888,\"#fdca26\"],[1.0,\"#f0f921\"]]}],\"heatmapgl\":[{\"type\":\"heatmapgl\",\"colorbar\":{\"outlinewidth\":0,\"ticks\":\"\"},\"colorscale\":[[0.0,\"#0d0887\"],[0.1111111111111111,\"#46039f\"],[0.2222222222222222,\"#7201a8\"],[0.3333333333333333,\"#9c179e\"],[0.4444444444444444,\"#bd3786\"],[0.5555555555555556,\"#d8576b\"],[0.6666666666666666,\"#ed7953\"],[0.7777777777777778,\"#fb9f3a\"],[0.8888888888888888,\"#fdca26\"],[1.0,\"#f0f921\"]]}],\"contourcarpet\":[{\"type\":\"contourcarpet\",\"colorbar\":{\"outlinewidth\":0,\"ticks\":\"\"}}],\"contour\":[{\"type\":\"contour\",\"colorbar\":{\"outlinewidth\":0,\"ticks\":\"\"},\"colorscale\":[[0.0,\"#0d0887\"],[0.1111111111111111,\"#46039f\"],[0.2222222222222222,\"#7201a8\"],[0.3333333333333333,\"#9c179e\"],[0.4444444444444444,\"#bd3786\"],[0.5555555555555556,\"#d8576b\"],[0.6666666666666666,\"#ed7953\"],[0.7777777777777778,\"#fb9f3a\"],[0.8888888888888888,\"#fdca26\"],[1.0,\"#f0f921\"]]}],\"surface\":[{\"type\":\"surface\",\"colorbar\":{\"outlinewidth\":0,\"ticks\":\"\"},\"colorscale\":[[0.0,\"#0d0887\"],[0.1111111111111111,\"#46039f\"],[0.2222222222222222,\"#7201a8\"],[0.3333333333333333,\"#9c179e\"],[0.4444444444444444,\"#bd3786\"],[0.5555555555555556,\"#d8576b\"],[0.6666666666666666,\"#ed7953\"],[0.7777777777777778,\"#fb9f3a\"],[0.8888888888888888,\"#fdca26\"],[1.0,\"#f0f921\"]]}],\"mesh3d\":[{\"type\":\"mesh3d\",\"colorbar\":{\"outlinewidth\":0,\"ticks\":\"\"}}],\"scatter\":[{\"fillpattern\":{\"fillmode\":\"overlay\",\"size\":10,\"solidity\":0.2},\"type\":\"scatter\"}],\"parcoords\":[{\"type\":\"parcoords\",\"line\":{\"colorbar\":{\"outlinewidth\":0,\"ticks\":\"\"}}}],\"scatterpolargl\":[{\"type\":\"scatterpolargl\",\"marker\":{\"colorbar\":{\"outlinewidth\":0,\"ticks\":\"\"}}}],\"bar\":[{\"error_x\":{\"color\":\"#2a3f5f\"},\"error_y\":{\"color\":\"#2a3f5f\"},\"marker\":{\"line\":{\"color\":\"#E5ECF6\",\"width\":0.5},\"pattern\":{\"fillmode\":\"overlay\",\"size\":10,\"solidity\":0.2}},\"type\":\"bar\"}],\"scattergeo\":[{\"type\":\"scattergeo\",\"marker\":{\"colorbar\":{\"outlinewidth\":0,\"ticks\":\"\"}}}],\"scatterpolar\":[{\"type\":\"scatterpolar\",\"marker\":{\"colorbar\":{\"outlinewidth\":0,\"ticks\":\"\"}}}],\"histogram\":[{\"marker\":{\"pattern\":{\"fillmode\":\"overlay\",\"size\":10,\"solidity\":0.2}},\"type\":\"histogram\"}],\"scattergl\":[{\"type\":\"scattergl\",\"marker\":{\"colorbar\":{\"outlinewidth\":0,\"ticks\":\"\"}}}],\"scatter3d\":[{\"type\":\"scatter3d\",\"line\":{\"colorbar\":{\"outlinewidth\":0,\"ticks\":\"\"}},\"marker\":{\"colorbar\":{\"outlinewidth\":0,\"ticks\":\"\"}}}],\"scattermapbox\":[{\"type\":\"scattermapbox\",\"marker\":{\"colorbar\":{\"outlinewidth\":0,\"ticks\":\"\"}}}],\"scatterternary\":[{\"type\":\"scatterternary\",\"marker\":{\"colorbar\":{\"outlinewidth\":0,\"ticks\":\"\"}}}],\"scattercarpet\":[{\"type\":\"scattercarpet\",\"marker\":{\"colorbar\":{\"outlinewidth\":0,\"ticks\":\"\"}}}],\"carpet\":[{\"aaxis\":{\"endlinecolor\":\"#2a3f5f\",\"gridcolor\":\"white\",\"linecolor\":\"white\",\"minorgridcolor\":\"white\",\"startlinecolor\":\"#2a3f5f\"},\"baxis\":{\"endlinecolor\":\"#2a3f5f\",\"gridcolor\":\"white\",\"linecolor\":\"white\",\"minorgridcolor\":\"white\",\"startlinecolor\":\"#2a3f5f\"},\"type\":\"carpet\"}],\"table\":[{\"cells\":{\"fill\":{\"color\":\"#EBF0F8\"},\"line\":{\"color\":\"white\"}},\"header\":{\"fill\":{\"color\":\"#C8D4E3\"},\"line\":{\"color\":\"white\"}},\"type\":\"table\"}],\"barpolar\":[{\"marker\":{\"line\":{\"color\":\"#E5ECF6\",\"width\":0.5},\"pattern\":{\"fillmode\":\"overlay\",\"size\":10,\"solidity\":0.2}},\"type\":\"barpolar\"}],\"pie\":[{\"automargin\":true,\"type\":\"pie\"}]},\"layout\":{\"autotypenumbers\":\"strict\",\"colorway\":[\"#636efa\",\"#EF553B\",\"#00cc96\",\"#ab63fa\",\"#FFA15A\",\"#19d3f3\",\"#FF6692\",\"#B6E880\",\"#FF97FF\",\"#FECB52\"],\"font\":{\"color\":\"#2a3f5f\"},\"hovermode\":\"closest\",\"hoverlabel\":{\"align\":\"left\"},\"paper_bgcolor\":\"white\",\"plot_bgcolor\":\"#E5ECF6\",\"polar\":{\"bgcolor\":\"#E5ECF6\",\"angularaxis\":{\"gridcolor\":\"white\",\"linecolor\":\"white\",\"ticks\":\"\"},\"radialaxis\":{\"gridcolor\":\"white\",\"linecolor\":\"white\",\"ticks\":\"\"}},\"ternary\":{\"bgcolor\":\"#E5ECF6\",\"aaxis\":{\"gridcolor\":\"white\",\"linecolor\":\"white\",\"ticks\":\"\"},\"baxis\":{\"gridcolor\":\"white\",\"linecolor\":\"white\",\"ticks\":\"\"},\"caxis\":{\"gridcolor\":\"white\",\"linecolor\":\"white\",\"ticks\":\"\"}},\"coloraxis\":{\"colorbar\":{\"outlinewidth\":0,\"ticks\":\"\"}},\"colorscale\":{\"sequential\":[[0.0,\"#0d0887\"],[0.1111111111111111,\"#46039f\"],[0.2222222222222222,\"#7201a8\"],[0.3333333333333333,\"#9c179e\"],[0.4444444444444444,\"#bd3786\"],[0.5555555555555556,\"#d8576b\"],[0.6666666666666666,\"#ed7953\"],[0.7777777777777778,\"#fb9f3a\"],[0.8888888888888888,\"#fdca26\"],[1.0,\"#f0f921\"]],\"sequentialminus\":[[0.0,\"#0d0887\"],[0.1111111111111111,\"#46039f\"],[0.2222222222222222,\"#7201a8\"],[0.3333333333333333,\"#9c179e\"],[0.4444444444444444,\"#bd3786\"],[0.5555555555555556,\"#d8576b\"],[0.6666666666666666,\"#ed7953\"],[0.7777777777777778,\"#fb9f3a\"],[0.8888888888888888,\"#fdca26\"],[1.0,\"#f0f921\"]],\"diverging\":[[0,\"#8e0152\"],[0.1,\"#c51b7d\"],[0.2,\"#de77ae\"],[0.3,\"#f1b6da\"],[0.4,\"#fde0ef\"],[0.5,\"#f7f7f7\"],[0.6,\"#e6f5d0\"],[0.7,\"#b8e186\"],[0.8,\"#7fbc41\"],[0.9,\"#4d9221\"],[1,\"#276419\"]]},\"xaxis\":{\"gridcolor\":\"white\",\"linecolor\":\"white\",\"ticks\":\"\",\"title\":{\"standoff\":15},\"zerolinecolor\":\"white\",\"automargin\":true,\"zerolinewidth\":2},\"yaxis\":{\"gridcolor\":\"white\",\"linecolor\":\"white\",\"ticks\":\"\",\"title\":{\"standoff\":15},\"zerolinecolor\":\"white\",\"automargin\":true,\"zerolinewidth\":2},\"scene\":{\"xaxis\":{\"backgroundcolor\":\"#E5ECF6\",\"gridcolor\":\"white\",\"linecolor\":\"white\",\"showbackground\":true,\"ticks\":\"\",\"zerolinecolor\":\"white\",\"gridwidth\":2},\"yaxis\":{\"backgroundcolor\":\"#E5ECF6\",\"gridcolor\":\"white\",\"linecolor\":\"white\",\"showbackground\":true,\"ticks\":\"\",\"zerolinecolor\":\"white\",\"gridwidth\":2},\"zaxis\":{\"backgroundcolor\":\"#E5ECF6\",\"gridcolor\":\"white\",\"linecolor\":\"white\",\"showbackground\":true,\"ticks\":\"\",\"zerolinecolor\":\"white\",\"gridwidth\":2}},\"shapedefaults\":{\"line\":{\"color\":\"#2a3f5f\"}},\"annotationdefaults\":{\"arrowcolor\":\"#2a3f5f\",\"arrowhead\":0,\"arrowwidth\":1},\"geo\":{\"bgcolor\":\"white\",\"landcolor\":\"#E5ECF6\",\"subunitcolor\":\"white\",\"showland\":true,\"showlakes\":true,\"lakecolor\":\"white\"},\"title\":{\"x\":0.05},\"mapbox\":{\"style\":\"light\"}}},\"xaxis\":{\"anchor\":\"y\",\"domain\":[0.0,1.0],\"title\":{\"text\":\"X Position\"}},\"yaxis\":{\"anchor\":\"x\",\"domain\":[0.0,1.0],\"title\":{\"text\":\"Y Position\"}},\"coloraxis\":{\"colorbar\":{\"title\":{\"text\":\"Activity Density\"}},\"colorscale\":[[0.0,\"#0d0887\"],[0.1111111111111111,\"#46039f\"],[0.2222222222222222,\"#7201a8\"],[0.3333333333333333,\"#9c179e\"],[0.4444444444444444,\"#bd3786\"],[0.5555555555555556,\"#d8576b\"],[0.6666666666666666,\"#ed7953\"],[0.7777777777777778,\"#fb9f3a\"],[0.8888888888888888,\"#fdca26\"],[1.0,\"#f0f921\"]]},\"legend\":{\"tracegroupgap\":0},\"title\":{\"text\":\"Player Activity Heatmap\"}},                        {\"responsive\": true}                    ).then(function(){\n",
       "                            \n",
       "var gd = document.getElementById('ea1caf9d-0cea-4de0-9fe5-00ed33569fe4');\n",
       "var x = new MutationObserver(function (mutations, observer) {{\n",
       "        var display = window.getComputedStyle(gd).display;\n",
       "        if (!display || display === 'none') {{\n",
       "            console.log([gd, 'removed!']);\n",
       "            Plotly.purge(gd);\n",
       "            observer.disconnect();\n",
       "        }}\n",
       "}});\n",
       "\n",
       "// Listen for the removal of the full notebook cells\n",
       "var notebookContainer = gd.closest('#notebook-container');\n",
       "if (notebookContainer) {{\n",
       "    x.observe(notebookContainer, {childList: true});\n",
       "}}\n",
       "\n",
       "// Listen for the clearing of the current output cell\n",
       "var outputEl = gd.closest('.output');\n",
       "if (outputEl) {{\n",
       "    x.observe(outputEl, {childList: true});\n",
       "}}\n",
       "\n",
       "                        })                };                });            </script>        </div>"
      ]
     },
     "metadata": {},
     "output_type": "display_data"
    }
   ],
   "source": [
    "import pandas as pd\n",
    "import plotly.express as px\n",
    "\n",
    "# Sample data for demonstration\n",
    "data = {\n",
    "    'x': [10, 20, 30, 40, 50, 60, 70, 80, 90, 100],\n",
    "    'y': [10, 20, 30, 40, 50, 60, 70, 80, 90, 100]\n",
    "}\n",
    "barcelona_events = pd.DataFrame(data)\n",
    "\n",
    "# Print data for inspection\n",
    "print(barcelona_events.head())\n",
    "print(barcelona_events.describe())\n",
    "\n",
    "# Create a heatmap\n",
    "fig = px.density_heatmap(barcelona_events, x='x', y='y',\n",
    "                        title='Player Activity Heatmap',\n",
    "                        labels={'x': 'X Position', 'y': 'Y Position'})\n",
    "\n",
    "# Update layout\n",
    "fig.update_layout(xaxis_title='X Position',\n",
    "                  yaxis_title='Y Position',\n",
    "                  coloraxis_colorbar_title='Activity Density')\n",
    "\n",
    "fig.show()\n"
   ]
  },
  {
   "cell_type": "code",
   "execution_count": 31,
   "id": "99fb9db1",
   "metadata": {
    "execution": {
     "iopub.execute_input": "2024-09-07T10:11:19.178669Z",
     "iopub.status.busy": "2024-09-07T10:11:19.177798Z",
     "iopub.status.idle": "2024-09-07T10:11:19.355368Z",
     "shell.execute_reply": "2024-09-07T10:11:19.354295Z"
    },
    "papermill": {
     "duration": 0.19877,
     "end_time": "2024-09-07T10:11:19.358016",
     "exception": false,
     "start_time": "2024-09-07T10:11:19.159246",
     "status": "completed"
    },
    "tags": []
   },
   "outputs": [
    {
     "data": {
      "text/html": [
       "<div>                            <div id=\"dd1ad459-7d0f-42e9-b838-c741fae9a23e\" class=\"plotly-graph-div\" style=\"height:525px; width:100%;\"></div>            <script type=\"text/javascript\">                require([\"plotly\"], function(Plotly) {                    window.PLOTLYENV=window.PLOTLYENV || {};                                    if (document.getElementById(\"dd1ad459-7d0f-42e9-b838-c741fae9a23e\")) {                    Plotly.newPlot(                        \"dd1ad459-7d0f-42e9-b838-c741fae9a23e\",                        [{\"hovertemplate\":\"player=%{text}\\u003cbr\\u003etime=1\\u003cbr\\u003ex=%{x}\\u003cbr\\u003ey=%{y}\\u003cextra\\u003e\\u003c\\u002fextra\\u003e\",\"legendgroup\":\"Player1\",\"marker\":{\"color\":\"#636efa\",\"symbol\":\"circle\"},\"mode\":\"markers+text\",\"name\":\"Player1\",\"orientation\":\"v\",\"showlegend\":true,\"text\":[\"Player1\"],\"x\":[10],\"xaxis\":\"x\",\"y\":[30],\"yaxis\":\"y\",\"type\":\"scatter\"},{\"hovertemplate\":\"player=%{text}\\u003cbr\\u003etime=1\\u003cbr\\u003ex=%{x}\\u003cbr\\u003ey=%{y}\\u003cextra\\u003e\\u003c\\u002fextra\\u003e\",\"legendgroup\":\"Player2\",\"marker\":{\"color\":\"#EF553B\",\"symbol\":\"circle\"},\"mode\":\"markers+text\",\"name\":\"Player2\",\"orientation\":\"v\",\"showlegend\":true,\"text\":[\"Player2\"],\"x\":[20],\"xaxis\":\"x\",\"y\":[20],\"yaxis\":\"y\",\"type\":\"scatter\"}],                        {\"template\":{\"data\":{\"histogram2dcontour\":[{\"type\":\"histogram2dcontour\",\"colorbar\":{\"outlinewidth\":0,\"ticks\":\"\"},\"colorscale\":[[0.0,\"#0d0887\"],[0.1111111111111111,\"#46039f\"],[0.2222222222222222,\"#7201a8\"],[0.3333333333333333,\"#9c179e\"],[0.4444444444444444,\"#bd3786\"],[0.5555555555555556,\"#d8576b\"],[0.6666666666666666,\"#ed7953\"],[0.7777777777777778,\"#fb9f3a\"],[0.8888888888888888,\"#fdca26\"],[1.0,\"#f0f921\"]]}],\"choropleth\":[{\"type\":\"choropleth\",\"colorbar\":{\"outlinewidth\":0,\"ticks\":\"\"}}],\"histogram2d\":[{\"type\":\"histogram2d\",\"colorbar\":{\"outlinewidth\":0,\"ticks\":\"\"},\"colorscale\":[[0.0,\"#0d0887\"],[0.1111111111111111,\"#46039f\"],[0.2222222222222222,\"#7201a8\"],[0.3333333333333333,\"#9c179e\"],[0.4444444444444444,\"#bd3786\"],[0.5555555555555556,\"#d8576b\"],[0.6666666666666666,\"#ed7953\"],[0.7777777777777778,\"#fb9f3a\"],[0.8888888888888888,\"#fdca26\"],[1.0,\"#f0f921\"]]}],\"heatmap\":[{\"type\":\"heatmap\",\"colorbar\":{\"outlinewidth\":0,\"ticks\":\"\"},\"colorscale\":[[0.0,\"#0d0887\"],[0.1111111111111111,\"#46039f\"],[0.2222222222222222,\"#7201a8\"],[0.3333333333333333,\"#9c179e\"],[0.4444444444444444,\"#bd3786\"],[0.5555555555555556,\"#d8576b\"],[0.6666666666666666,\"#ed7953\"],[0.7777777777777778,\"#fb9f3a\"],[0.8888888888888888,\"#fdca26\"],[1.0,\"#f0f921\"]]}],\"heatmapgl\":[{\"type\":\"heatmapgl\",\"colorbar\":{\"outlinewidth\":0,\"ticks\":\"\"},\"colorscale\":[[0.0,\"#0d0887\"],[0.1111111111111111,\"#46039f\"],[0.2222222222222222,\"#7201a8\"],[0.3333333333333333,\"#9c179e\"],[0.4444444444444444,\"#bd3786\"],[0.5555555555555556,\"#d8576b\"],[0.6666666666666666,\"#ed7953\"],[0.7777777777777778,\"#fb9f3a\"],[0.8888888888888888,\"#fdca26\"],[1.0,\"#f0f921\"]]}],\"contourcarpet\":[{\"type\":\"contourcarpet\",\"colorbar\":{\"outlinewidth\":0,\"ticks\":\"\"}}],\"contour\":[{\"type\":\"contour\",\"colorbar\":{\"outlinewidth\":0,\"ticks\":\"\"},\"colorscale\":[[0.0,\"#0d0887\"],[0.1111111111111111,\"#46039f\"],[0.2222222222222222,\"#7201a8\"],[0.3333333333333333,\"#9c179e\"],[0.4444444444444444,\"#bd3786\"],[0.5555555555555556,\"#d8576b\"],[0.6666666666666666,\"#ed7953\"],[0.7777777777777778,\"#fb9f3a\"],[0.8888888888888888,\"#fdca26\"],[1.0,\"#f0f921\"]]}],\"surface\":[{\"type\":\"surface\",\"colorbar\":{\"outlinewidth\":0,\"ticks\":\"\"},\"colorscale\":[[0.0,\"#0d0887\"],[0.1111111111111111,\"#46039f\"],[0.2222222222222222,\"#7201a8\"],[0.3333333333333333,\"#9c179e\"],[0.4444444444444444,\"#bd3786\"],[0.5555555555555556,\"#d8576b\"],[0.6666666666666666,\"#ed7953\"],[0.7777777777777778,\"#fb9f3a\"],[0.8888888888888888,\"#fdca26\"],[1.0,\"#f0f921\"]]}],\"mesh3d\":[{\"type\":\"mesh3d\",\"colorbar\":{\"outlinewidth\":0,\"ticks\":\"\"}}],\"scatter\":[{\"fillpattern\":{\"fillmode\":\"overlay\",\"size\":10,\"solidity\":0.2},\"type\":\"scatter\"}],\"parcoords\":[{\"type\":\"parcoords\",\"line\":{\"colorbar\":{\"outlinewidth\":0,\"ticks\":\"\"}}}],\"scatterpolargl\":[{\"type\":\"scatterpolargl\",\"marker\":{\"colorbar\":{\"outlinewidth\":0,\"ticks\":\"\"}}}],\"bar\":[{\"error_x\":{\"color\":\"#2a3f5f\"},\"error_y\":{\"color\":\"#2a3f5f\"},\"marker\":{\"line\":{\"color\":\"#E5ECF6\",\"width\":0.5},\"pattern\":{\"fillmode\":\"overlay\",\"size\":10,\"solidity\":0.2}},\"type\":\"bar\"}],\"scattergeo\":[{\"type\":\"scattergeo\",\"marker\":{\"colorbar\":{\"outlinewidth\":0,\"ticks\":\"\"}}}],\"scatterpolar\":[{\"type\":\"scatterpolar\",\"marker\":{\"colorbar\":{\"outlinewidth\":0,\"ticks\":\"\"}}}],\"histogram\":[{\"marker\":{\"pattern\":{\"fillmode\":\"overlay\",\"size\":10,\"solidity\":0.2}},\"type\":\"histogram\"}],\"scattergl\":[{\"type\":\"scattergl\",\"marker\":{\"colorbar\":{\"outlinewidth\":0,\"ticks\":\"\"}}}],\"scatter3d\":[{\"type\":\"scatter3d\",\"line\":{\"colorbar\":{\"outlinewidth\":0,\"ticks\":\"\"}},\"marker\":{\"colorbar\":{\"outlinewidth\":0,\"ticks\":\"\"}}}],\"scattermapbox\":[{\"type\":\"scattermapbox\",\"marker\":{\"colorbar\":{\"outlinewidth\":0,\"ticks\":\"\"}}}],\"scatterternary\":[{\"type\":\"scatterternary\",\"marker\":{\"colorbar\":{\"outlinewidth\":0,\"ticks\":\"\"}}}],\"scattercarpet\":[{\"type\":\"scattercarpet\",\"marker\":{\"colorbar\":{\"outlinewidth\":0,\"ticks\":\"\"}}}],\"carpet\":[{\"aaxis\":{\"endlinecolor\":\"#2a3f5f\",\"gridcolor\":\"white\",\"linecolor\":\"white\",\"minorgridcolor\":\"white\",\"startlinecolor\":\"#2a3f5f\"},\"baxis\":{\"endlinecolor\":\"#2a3f5f\",\"gridcolor\":\"white\",\"linecolor\":\"white\",\"minorgridcolor\":\"white\",\"startlinecolor\":\"#2a3f5f\"},\"type\":\"carpet\"}],\"table\":[{\"cells\":{\"fill\":{\"color\":\"#EBF0F8\"},\"line\":{\"color\":\"white\"}},\"header\":{\"fill\":{\"color\":\"#C8D4E3\"},\"line\":{\"color\":\"white\"}},\"type\":\"table\"}],\"barpolar\":[{\"marker\":{\"line\":{\"color\":\"#E5ECF6\",\"width\":0.5},\"pattern\":{\"fillmode\":\"overlay\",\"size\":10,\"solidity\":0.2}},\"type\":\"barpolar\"}],\"pie\":[{\"automargin\":true,\"type\":\"pie\"}]},\"layout\":{\"autotypenumbers\":\"strict\",\"colorway\":[\"#636efa\",\"#EF553B\",\"#00cc96\",\"#ab63fa\",\"#FFA15A\",\"#19d3f3\",\"#FF6692\",\"#B6E880\",\"#FF97FF\",\"#FECB52\"],\"font\":{\"color\":\"#2a3f5f\"},\"hovermode\":\"closest\",\"hoverlabel\":{\"align\":\"left\"},\"paper_bgcolor\":\"white\",\"plot_bgcolor\":\"#E5ECF6\",\"polar\":{\"bgcolor\":\"#E5ECF6\",\"angularaxis\":{\"gridcolor\":\"white\",\"linecolor\":\"white\",\"ticks\":\"\"},\"radialaxis\":{\"gridcolor\":\"white\",\"linecolor\":\"white\",\"ticks\":\"\"}},\"ternary\":{\"bgcolor\":\"#E5ECF6\",\"aaxis\":{\"gridcolor\":\"white\",\"linecolor\":\"white\",\"ticks\":\"\"},\"baxis\":{\"gridcolor\":\"white\",\"linecolor\":\"white\",\"ticks\":\"\"},\"caxis\":{\"gridcolor\":\"white\",\"linecolor\":\"white\",\"ticks\":\"\"}},\"coloraxis\":{\"colorbar\":{\"outlinewidth\":0,\"ticks\":\"\"}},\"colorscale\":{\"sequential\":[[0.0,\"#0d0887\"],[0.1111111111111111,\"#46039f\"],[0.2222222222222222,\"#7201a8\"],[0.3333333333333333,\"#9c179e\"],[0.4444444444444444,\"#bd3786\"],[0.5555555555555556,\"#d8576b\"],[0.6666666666666666,\"#ed7953\"],[0.7777777777777778,\"#fb9f3a\"],[0.8888888888888888,\"#fdca26\"],[1.0,\"#f0f921\"]],\"sequentialminus\":[[0.0,\"#0d0887\"],[0.1111111111111111,\"#46039f\"],[0.2222222222222222,\"#7201a8\"],[0.3333333333333333,\"#9c179e\"],[0.4444444444444444,\"#bd3786\"],[0.5555555555555556,\"#d8576b\"],[0.6666666666666666,\"#ed7953\"],[0.7777777777777778,\"#fb9f3a\"],[0.8888888888888888,\"#fdca26\"],[1.0,\"#f0f921\"]],\"diverging\":[[0,\"#8e0152\"],[0.1,\"#c51b7d\"],[0.2,\"#de77ae\"],[0.3,\"#f1b6da\"],[0.4,\"#fde0ef\"],[0.5,\"#f7f7f7\"],[0.6,\"#e6f5d0\"],[0.7,\"#b8e186\"],[0.8,\"#7fbc41\"],[0.9,\"#4d9221\"],[1,\"#276419\"]]},\"xaxis\":{\"gridcolor\":\"white\",\"linecolor\":\"white\",\"ticks\":\"\",\"title\":{\"standoff\":15},\"zerolinecolor\":\"white\",\"automargin\":true,\"zerolinewidth\":2},\"yaxis\":{\"gridcolor\":\"white\",\"linecolor\":\"white\",\"ticks\":\"\",\"title\":{\"standoff\":15},\"zerolinecolor\":\"white\",\"automargin\":true,\"zerolinewidth\":2},\"scene\":{\"xaxis\":{\"backgroundcolor\":\"#E5ECF6\",\"gridcolor\":\"white\",\"linecolor\":\"white\",\"showbackground\":true,\"ticks\":\"\",\"zerolinecolor\":\"white\",\"gridwidth\":2},\"yaxis\":{\"backgroundcolor\":\"#E5ECF6\",\"gridcolor\":\"white\",\"linecolor\":\"white\",\"showbackground\":true,\"ticks\":\"\",\"zerolinecolor\":\"white\",\"gridwidth\":2},\"zaxis\":{\"backgroundcolor\":\"#E5ECF6\",\"gridcolor\":\"white\",\"linecolor\":\"white\",\"showbackground\":true,\"ticks\":\"\",\"zerolinecolor\":\"white\",\"gridwidth\":2}},\"shapedefaults\":{\"line\":{\"color\":\"#2a3f5f\"}},\"annotationdefaults\":{\"arrowcolor\":\"#2a3f5f\",\"arrowhead\":0,\"arrowwidth\":1},\"geo\":{\"bgcolor\":\"white\",\"landcolor\":\"#E5ECF6\",\"subunitcolor\":\"white\",\"showland\":true,\"showlakes\":true,\"lakecolor\":\"white\"},\"title\":{\"x\":0.05},\"mapbox\":{\"style\":\"light\"}}},\"xaxis\":{\"anchor\":\"y\",\"domain\":[0.0,1.0],\"title\":{\"text\":\"X Position\"}},\"yaxis\":{\"anchor\":\"x\",\"domain\":[0.0,1.0],\"title\":{\"text\":\"Y Position\"}},\"legend\":{\"title\":{\"text\":\"player\"},\"tracegroupgap\":0},\"title\":{\"text\":\"Player Trajectories Over Time\"},\"updatemenus\":[{\"buttons\":[{\"args\":[null,{\"frame\":{\"duration\":500,\"redraw\":false},\"mode\":\"immediate\",\"fromcurrent\":true,\"transition\":{\"duration\":500,\"easing\":\"linear\"}}],\"label\":\"&#9654;\",\"method\":\"animate\"},{\"args\":[[null],{\"frame\":{\"duration\":0,\"redraw\":false},\"mode\":\"immediate\",\"fromcurrent\":true,\"transition\":{\"duration\":0,\"easing\":\"linear\"}}],\"label\":\"&#9724;\",\"method\":\"animate\"}],\"direction\":\"left\",\"pad\":{\"r\":10,\"t\":70},\"showactive\":false,\"type\":\"buttons\",\"x\":0.1,\"xanchor\":\"right\",\"y\":0,\"yanchor\":\"top\"}],\"sliders\":[{\"active\":0,\"currentvalue\":{\"prefix\":\"time=\"},\"len\":0.9,\"pad\":{\"b\":10,\"t\":60},\"steps\":[{\"args\":[[\"1\"],{\"frame\":{\"duration\":0,\"redraw\":false},\"mode\":\"immediate\",\"fromcurrent\":true,\"transition\":{\"duration\":0,\"easing\":\"linear\"}}],\"label\":\"1\",\"method\":\"animate\"},{\"args\":[[\"2\"],{\"frame\":{\"duration\":0,\"redraw\":false},\"mode\":\"immediate\",\"fromcurrent\":true,\"transition\":{\"duration\":0,\"easing\":\"linear\"}}],\"label\":\"2\",\"method\":\"animate\"}],\"x\":0.1,\"xanchor\":\"left\",\"y\":0,\"yanchor\":\"top\"}]},                        {\"responsive\": true}                    ).then(function(){\n",
       "                            Plotly.addFrames('dd1ad459-7d0f-42e9-b838-c741fae9a23e', [{\"data\":[{\"hovertemplate\":\"player=%{text}\\u003cbr\\u003etime=1\\u003cbr\\u003ex=%{x}\\u003cbr\\u003ey=%{y}\\u003cextra\\u003e\\u003c\\u002fextra\\u003e\",\"legendgroup\":\"Player1\",\"marker\":{\"color\":\"#636efa\",\"symbol\":\"circle\"},\"mode\":\"markers+text\",\"name\":\"Player1\",\"orientation\":\"v\",\"showlegend\":true,\"text\":[\"Player1\"],\"x\":[10],\"xaxis\":\"x\",\"y\":[30],\"yaxis\":\"y\",\"type\":\"scatter\"},{\"hovertemplate\":\"player=%{text}\\u003cbr\\u003etime=1\\u003cbr\\u003ex=%{x}\\u003cbr\\u003ey=%{y}\\u003cextra\\u003e\\u003c\\u002fextra\\u003e\",\"legendgroup\":\"Player2\",\"marker\":{\"color\":\"#EF553B\",\"symbol\":\"circle\"},\"mode\":\"markers+text\",\"name\":\"Player2\",\"orientation\":\"v\",\"showlegend\":true,\"text\":[\"Player2\"],\"x\":[20],\"xaxis\":\"x\",\"y\":[20],\"yaxis\":\"y\",\"type\":\"scatter\"}],\"name\":\"1\"},{\"data\":[{\"hovertemplate\":\"player=%{text}\\u003cbr\\u003etime=2\\u003cbr\\u003ex=%{x}\\u003cbr\\u003ey=%{y}\\u003cextra\\u003e\\u003c\\u002fextra\\u003e\",\"legendgroup\":\"Player1\",\"marker\":{\"color\":\"#636efa\",\"symbol\":\"circle\"},\"mode\":\"markers+text\",\"name\":\"Player1\",\"orientation\":\"v\",\"showlegend\":true,\"text\":[\"Player1\"],\"x\":[30],\"xaxis\":\"x\",\"y\":[10],\"yaxis\":\"y\",\"type\":\"scatter\"},{\"hovertemplate\":\"player=%{text}\\u003cbr\\u003etime=2\\u003cbr\\u003ex=%{x}\\u003cbr\\u003ey=%{y}\\u003cextra\\u003e\\u003c\\u002fextra\\u003e\",\"legendgroup\":\"Player2\",\"marker\":{\"color\":\"#EF553B\",\"symbol\":\"circle\"},\"mode\":\"markers+text\",\"name\":\"Player2\",\"orientation\":\"v\",\"showlegend\":true,\"text\":[\"Player2\"],\"x\":[40],\"xaxis\":\"x\",\"y\":[20],\"yaxis\":\"y\",\"type\":\"scatter\"}],\"name\":\"2\"}]);\n",
       "                        }).then(function(){\n",
       "                            \n",
       "var gd = document.getElementById('dd1ad459-7d0f-42e9-b838-c741fae9a23e');\n",
       "var x = new MutationObserver(function (mutations, observer) {{\n",
       "        var display = window.getComputedStyle(gd).display;\n",
       "        if (!display || display === 'none') {{\n",
       "            console.log([gd, 'removed!']);\n",
       "            Plotly.purge(gd);\n",
       "            observer.disconnect();\n",
       "        }}\n",
       "}});\n",
       "\n",
       "// Listen for the removal of the full notebook cells\n",
       "var notebookContainer = gd.closest('#notebook-container');\n",
       "if (notebookContainer) {{\n",
       "    x.observe(notebookContainer, {childList: true});\n",
       "}}\n",
       "\n",
       "// Listen for the clearing of the current output cell\n",
       "var outputEl = gd.closest('.output');\n",
       "if (outputEl) {{\n",
       "    x.observe(outputEl, {childList: true});\n",
       "}}\n",
       "\n",
       "                        })                };                });            </script>        </div>"
      ]
     },
     "metadata": {},
     "output_type": "display_data"
    }
   ],
   "source": [
    "import plotly.express as px\n",
    "\n",
    "# Sample DataFrame with time\n",
    "df = pd.DataFrame({\n",
    "    'time': [1, 1, 2, 2],\n",
    "    'player': ['Player1', 'Player2', 'Player1', 'Player2'],\n",
    "    'x': [10, 20, 30, 40],\n",
    "    'y': [30, 20, 10, 20]\n",
    "})\n",
    "\n",
    "# Create animated scatter plot\n",
    "fig = px.scatter(df, x='x', y='y', animation_frame='time', color='player', text='player',\n",
    "                 title='Player Trajectories Over Time')\n",
    "\n",
    "fig.update_layout(xaxis_title='X Position', yaxis_title='Y Position')\n",
    "fig.show()\n"
   ]
  }
 ],
 "metadata": {
  "kaggle": {
   "accelerator": "none",
   "dataSources": [
    {
     "datasetId": 1731043,
     "sourceId": 9335659,
     "sourceType": "datasetVersion"
    }
   ],
   "dockerImageVersionId": 30761,
   "isGpuEnabled": false,
   "isInternetEnabled": true,
   "language": "python",
   "sourceType": "notebook"
  },
  "kernelspec": {
   "display_name": "Python 3",
   "language": "python",
   "name": "python3"
  },
  "language_info": {
   "codemirror_mode": {
    "name": "ipython",
    "version": 3
   },
   "file_extension": ".py",
   "mimetype": "text/x-python",
   "name": "python",
   "nbconvert_exporter": "python",
   "pygments_lexer": "ipython3",
   "version": "3.10.14"
  },
  "papermill": {
   "default_parameters": {},
   "duration": 13.639692,
   "end_time": "2024-09-07T10:11:20.199459",
   "environment_variables": {},
   "exception": null,
   "input_path": "__notebook__.ipynb",
   "output_path": "__notebook__.ipynb",
   "parameters": {},
   "start_time": "2024-09-07T10:11:06.559767",
   "version": "2.6.0"
  }
 },
 "nbformat": 4,
 "nbformat_minor": 5
}
